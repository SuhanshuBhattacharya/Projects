{
 "cells": [
  {
   "cell_type": "code",
   "execution_count": 37,
   "id": "ef988909",
   "metadata": {},
   "outputs": [],
   "source": [
    "# Importing some common libraries\n",
    "import numpy as np\n",
    "import pandas as pd\n",
    "from matplotlib import pyplot as plt\n",
    "import seaborn as sns\n",
    "import warnings\n",
    "warnings.filterwarnings('ignore')\n",
    "\n",
    "# For statistical tests\n",
    "import scipy.stats as stats\n",
    "\n",
    "# For spilliting the data and preprocessing\n",
    "from sklearn.model_selection import train_test_split\n",
    "from sklearn.preprocessing import StandardScaler\n",
    "\n",
    "# For sampling\n",
    "from imblearn.over_sampling import SMOTE\n",
    "\n",
    "# for model building\n",
    "import statsmodels.api as sm\n",
    "from sklearn.tree import DecisionTreeClassifier\n",
    "from lightgbm import LGBMClassifier\n",
    "\n",
    "# For evaluation\n",
    "from sklearn.metrics import f1_score,accuracy_score,confusion_matrix,ConfusionMatrixDisplay,classification_report\n",
    "from sklearn.metrics import recall_score,precision_score"
   ]
  },
  {
   "cell_type": "markdown",
   "id": "8b40faae",
   "metadata": {},
   "source": [
    "# About the Data\n",
    "The dataset contains transactions made by credit cards in September 2013 by European cardholders.\n",
    "This dataset presents transactions that occurred in two days, where we have 492 frauds out of 284,807 transactions. The dataset is highly unbalanced, the positive class (frauds) account for 0.172% of all transactions.\n",
    "\n",
    "It contains only numerical input variables which are the result of a PCA transformation. Unfortunately, due to confidentiality issues, we cannot provide the original features and more background information about the data. Features V1, V2, … V28 are the principal components obtained with PCA, the only features which have not been transformed with PCA are 'Time' and 'Amount'. Feature 'Time' contains the seconds elapsed between each transaction and the first transaction in the dataset. The feature 'Amount' is the transaction Amount, this feature can be used for example-dependant cost-sensitive learning. Feature 'Class' is the response variable and it takes value 1 in case of fraud and 0 otherwise.\n",
    "\n",
    "Given the class imbalance ratio, we recommend measuring the accuracy using the Area Under the Precision-Recall Curve (AUPRC). Confusion matrix accuracy is not meaningful for unbalanced classification."
   ]
  },
  {
   "cell_type": "markdown",
   "id": "47c839fe",
   "metadata": {},
   "source": [
    "## Acknowledgements\n",
    "The dataset has been collected and analysed during a research collaboration of Worldline and the Machine Learning Group (http://mlg.ulb.ac.be) of ULB (Université Libre de Bruxelles) on big data mining and fraud detection.\n",
    "More details on current and past projects on related topics are available on https://www.researchgate.net/project/Fraud-detection-5 and the page of the DefeatFraud project\n",
    "\n",
    "Please cite the following works:\n",
    "\n",
    "Andrea Dal Pozzolo, Olivier Caelen, Reid A. Johnson and Gianluca Bontempi. Calibrating Probability with Undersampling for Unbalanced Classification. In Symposium on Computational Intelligence and Data Mining (CIDM), IEEE, 2015\n",
    "\n",
    "Dal Pozzolo, Andrea; Caelen, Olivier; Le Borgne, Yann-Ael; Waterschoot, Serge; Bontempi, Gianluca. Learned lessons in credit card fraud detection from a practitioner perspective, Expert systems with applications,41,10,4915-4928,2014, Pergamon\n",
    "\n",
    "Dal Pozzolo, Andrea; Boracchi, Giacomo; Caelen, Olivier; Alippi, Cesare; Bontempi, Gianluca. Credit card fraud detection: a realistic modeling and a novel learning strategy, IEEE transactions on neural networks and learning systems,29,8,3784-3797,2018,IEEE\n",
    "\n",
    "Dal Pozzolo, Andrea Adaptive Machine learning for credit card fraud detection ULB MLG PhD thesis (supervised by G. Bontempi)\n",
    "\n",
    "Carcillo, Fabrizio; Dal Pozzolo, Andrea; Le Borgne, Yann-Aël; Caelen, Olivier; Mazzer, Yannis; Bontempi, Gianluca. Scarff: a scalable framework for streaming credit card fraud detection with Spark, Information fusion,41, 182-194,2018,Elsevier\n",
    "\n",
    "Carcillo, Fabrizio; Le Borgne, Yann-Aël; Caelen, Olivier; Bontempi, Gianluca. Streaming active learning strategies for real-life credit card fraud detection: assessment and visualization, International Journal of Data Science and Analytics, 5,4,285-300,2018,Springer International Publishing\n",
    "\n",
    "Bertrand Lebichot, Yann-Aël Le Borgne, Liyun He, Frederic Oblé, Gianluca Bontempi Deep-Learning Domain Adaptation Techniques for Credit Cards Fraud Detection, INNSBDDL 2019: Recent Advances in Big Data and Deep Learning, pp 78-88, 2019\n",
    "\n",
    "Fabrizio Carcillo, Yann-Aël Le Borgne, Olivier Caelen, Frederic Oblé, Gianluca Bontempi Combining Unsupervised and Supervised Learning in Credit Card Fraud Detection Information Sciences, 2019\n",
    "\n",
    "Yann-Aël Le Borgne, Gianluca Bontempi Reproducible machine Learning for Credit Card Fraud Detection - Practical Handbook\n",
    "\n",
    "Bertrand Lebichot, Gianmarco Paldino, Wissam Siblini, Liyun He, Frederic Oblé, Gianluca Bontempi Incremental learning strategies for credit cards fraud detection, IInternational Journal of Data Science and Analytics\n",
    "\n",
    "Source: https://www.kaggle.com/datasets/whenamancodes/fraud-detection"
   ]
  },
  {
   "cell_type": "markdown",
   "id": "ac6907f0",
   "metadata": {},
   "source": [
    "# Data Reading and basic eyeballing"
   ]
  },
  {
   "cell_type": "code",
   "execution_count": 2,
   "id": "66181844",
   "metadata": {},
   "outputs": [],
   "source": [
    "# Reading the data\n",
    "df=pd.read_csv('creditcard.csv')"
   ]
  },
  {
   "cell_type": "code",
   "execution_count": 3,
   "id": "f6fb52db",
   "metadata": {},
   "outputs": [
    {
     "data": {
      "text/html": [
       "<div>\n",
       "<style scoped>\n",
       "    .dataframe tbody tr th:only-of-type {\n",
       "        vertical-align: middle;\n",
       "    }\n",
       "\n",
       "    .dataframe tbody tr th {\n",
       "        vertical-align: top;\n",
       "    }\n",
       "\n",
       "    .dataframe thead th {\n",
       "        text-align: right;\n",
       "    }\n",
       "</style>\n",
       "<table border=\"1\" class=\"dataframe\">\n",
       "  <thead>\n",
       "    <tr style=\"text-align: right;\">\n",
       "      <th></th>\n",
       "      <th>Time</th>\n",
       "      <th>V1</th>\n",
       "      <th>V2</th>\n",
       "      <th>V3</th>\n",
       "      <th>V4</th>\n",
       "      <th>V5</th>\n",
       "      <th>V6</th>\n",
       "      <th>V7</th>\n",
       "      <th>V8</th>\n",
       "      <th>V9</th>\n",
       "      <th>...</th>\n",
       "      <th>V21</th>\n",
       "      <th>V22</th>\n",
       "      <th>V23</th>\n",
       "      <th>V24</th>\n",
       "      <th>V25</th>\n",
       "      <th>V26</th>\n",
       "      <th>V27</th>\n",
       "      <th>V28</th>\n",
       "      <th>Amount</th>\n",
       "      <th>Class</th>\n",
       "    </tr>\n",
       "  </thead>\n",
       "  <tbody>\n",
       "    <tr>\n",
       "      <th>0</th>\n",
       "      <td>0.0</td>\n",
       "      <td>-1.359807</td>\n",
       "      <td>-0.072781</td>\n",
       "      <td>2.536347</td>\n",
       "      <td>1.378155</td>\n",
       "      <td>-0.338321</td>\n",
       "      <td>0.462388</td>\n",
       "      <td>0.239599</td>\n",
       "      <td>0.098698</td>\n",
       "      <td>0.363787</td>\n",
       "      <td>...</td>\n",
       "      <td>-0.018307</td>\n",
       "      <td>0.277838</td>\n",
       "      <td>-0.110474</td>\n",
       "      <td>0.066928</td>\n",
       "      <td>0.128539</td>\n",
       "      <td>-0.189115</td>\n",
       "      <td>0.133558</td>\n",
       "      <td>-0.021053</td>\n",
       "      <td>149.62</td>\n",
       "      <td>0</td>\n",
       "    </tr>\n",
       "    <tr>\n",
       "      <th>1</th>\n",
       "      <td>0.0</td>\n",
       "      <td>1.191857</td>\n",
       "      <td>0.266151</td>\n",
       "      <td>0.166480</td>\n",
       "      <td>0.448154</td>\n",
       "      <td>0.060018</td>\n",
       "      <td>-0.082361</td>\n",
       "      <td>-0.078803</td>\n",
       "      <td>0.085102</td>\n",
       "      <td>-0.255425</td>\n",
       "      <td>...</td>\n",
       "      <td>-0.225775</td>\n",
       "      <td>-0.638672</td>\n",
       "      <td>0.101288</td>\n",
       "      <td>-0.339846</td>\n",
       "      <td>0.167170</td>\n",
       "      <td>0.125895</td>\n",
       "      <td>-0.008983</td>\n",
       "      <td>0.014724</td>\n",
       "      <td>2.69</td>\n",
       "      <td>0</td>\n",
       "    </tr>\n",
       "    <tr>\n",
       "      <th>2</th>\n",
       "      <td>1.0</td>\n",
       "      <td>-1.358354</td>\n",
       "      <td>-1.340163</td>\n",
       "      <td>1.773209</td>\n",
       "      <td>0.379780</td>\n",
       "      <td>-0.503198</td>\n",
       "      <td>1.800499</td>\n",
       "      <td>0.791461</td>\n",
       "      <td>0.247676</td>\n",
       "      <td>-1.514654</td>\n",
       "      <td>...</td>\n",
       "      <td>0.247998</td>\n",
       "      <td>0.771679</td>\n",
       "      <td>0.909412</td>\n",
       "      <td>-0.689281</td>\n",
       "      <td>-0.327642</td>\n",
       "      <td>-0.139097</td>\n",
       "      <td>-0.055353</td>\n",
       "      <td>-0.059752</td>\n",
       "      <td>378.66</td>\n",
       "      <td>0</td>\n",
       "    </tr>\n",
       "    <tr>\n",
       "      <th>3</th>\n",
       "      <td>1.0</td>\n",
       "      <td>-0.966272</td>\n",
       "      <td>-0.185226</td>\n",
       "      <td>1.792993</td>\n",
       "      <td>-0.863291</td>\n",
       "      <td>-0.010309</td>\n",
       "      <td>1.247203</td>\n",
       "      <td>0.237609</td>\n",
       "      <td>0.377436</td>\n",
       "      <td>-1.387024</td>\n",
       "      <td>...</td>\n",
       "      <td>-0.108300</td>\n",
       "      <td>0.005274</td>\n",
       "      <td>-0.190321</td>\n",
       "      <td>-1.175575</td>\n",
       "      <td>0.647376</td>\n",
       "      <td>-0.221929</td>\n",
       "      <td>0.062723</td>\n",
       "      <td>0.061458</td>\n",
       "      <td>123.50</td>\n",
       "      <td>0</td>\n",
       "    </tr>\n",
       "    <tr>\n",
       "      <th>4</th>\n",
       "      <td>2.0</td>\n",
       "      <td>-1.158233</td>\n",
       "      <td>0.877737</td>\n",
       "      <td>1.548718</td>\n",
       "      <td>0.403034</td>\n",
       "      <td>-0.407193</td>\n",
       "      <td>0.095921</td>\n",
       "      <td>0.592941</td>\n",
       "      <td>-0.270533</td>\n",
       "      <td>0.817739</td>\n",
       "      <td>...</td>\n",
       "      <td>-0.009431</td>\n",
       "      <td>0.798278</td>\n",
       "      <td>-0.137458</td>\n",
       "      <td>0.141267</td>\n",
       "      <td>-0.206010</td>\n",
       "      <td>0.502292</td>\n",
       "      <td>0.219422</td>\n",
       "      <td>0.215153</td>\n",
       "      <td>69.99</td>\n",
       "      <td>0</td>\n",
       "    </tr>\n",
       "  </tbody>\n",
       "</table>\n",
       "<p>5 rows × 31 columns</p>\n",
       "</div>"
      ],
      "text/plain": [
       "   Time        V1        V2        V3        V4        V5        V6        V7  \\\n",
       "0   0.0 -1.359807 -0.072781  2.536347  1.378155 -0.338321  0.462388  0.239599   \n",
       "1   0.0  1.191857  0.266151  0.166480  0.448154  0.060018 -0.082361 -0.078803   \n",
       "2   1.0 -1.358354 -1.340163  1.773209  0.379780 -0.503198  1.800499  0.791461   \n",
       "3   1.0 -0.966272 -0.185226  1.792993 -0.863291 -0.010309  1.247203  0.237609   \n",
       "4   2.0 -1.158233  0.877737  1.548718  0.403034 -0.407193  0.095921  0.592941   \n",
       "\n",
       "         V8        V9  ...       V21       V22       V23       V24       V25  \\\n",
       "0  0.098698  0.363787  ... -0.018307  0.277838 -0.110474  0.066928  0.128539   \n",
       "1  0.085102 -0.255425  ... -0.225775 -0.638672  0.101288 -0.339846  0.167170   \n",
       "2  0.247676 -1.514654  ...  0.247998  0.771679  0.909412 -0.689281 -0.327642   \n",
       "3  0.377436 -1.387024  ... -0.108300  0.005274 -0.190321 -1.175575  0.647376   \n",
       "4 -0.270533  0.817739  ... -0.009431  0.798278 -0.137458  0.141267 -0.206010   \n",
       "\n",
       "        V26       V27       V28  Amount  Class  \n",
       "0 -0.189115  0.133558 -0.021053  149.62      0  \n",
       "1  0.125895 -0.008983  0.014724    2.69      0  \n",
       "2 -0.139097 -0.055353 -0.059752  378.66      0  \n",
       "3 -0.221929  0.062723  0.061458  123.50      0  \n",
       "4  0.502292  0.219422  0.215153   69.99      0  \n",
       "\n",
       "[5 rows x 31 columns]"
      ]
     },
     "execution_count": 3,
     "metadata": {},
     "output_type": "execute_result"
    }
   ],
   "source": [
    "# First five rows\n",
    "df.head()"
   ]
  },
  {
   "cell_type": "code",
   "execution_count": 4,
   "id": "42143834",
   "metadata": {},
   "outputs": [
    {
     "data": {
      "text/plain": [
       "(284807, 31)"
      ]
     },
     "execution_count": 4,
     "metadata": {},
     "output_type": "execute_result"
    }
   ],
   "source": [
    "# shape of the data\n",
    "df.shape"
   ]
  },
  {
   "cell_type": "code",
   "execution_count": 5,
   "id": "7b091503",
   "metadata": {},
   "outputs": [
    {
     "name": "stdout",
     "output_type": "stream",
     "text": [
      "<class 'pandas.core.frame.DataFrame'>\n",
      "RangeIndex: 284807 entries, 0 to 284806\n",
      "Data columns (total 31 columns):\n",
      " #   Column  Non-Null Count   Dtype  \n",
      "---  ------  --------------   -----  \n",
      " 0   Time    284807 non-null  float64\n",
      " 1   V1      284807 non-null  float64\n",
      " 2   V2      284807 non-null  float64\n",
      " 3   V3      284807 non-null  float64\n",
      " 4   V4      284807 non-null  float64\n",
      " 5   V5      284807 non-null  float64\n",
      " 6   V6      284807 non-null  float64\n",
      " 7   V7      284807 non-null  float64\n",
      " 8   V8      284807 non-null  float64\n",
      " 9   V9      284807 non-null  float64\n",
      " 10  V10     284807 non-null  float64\n",
      " 11  V11     284807 non-null  float64\n",
      " 12  V12     284807 non-null  float64\n",
      " 13  V13     284807 non-null  float64\n",
      " 14  V14     284807 non-null  float64\n",
      " 15  V15     284807 non-null  float64\n",
      " 16  V16     284807 non-null  float64\n",
      " 17  V17     284807 non-null  float64\n",
      " 18  V18     284807 non-null  float64\n",
      " 19  V19     284807 non-null  float64\n",
      " 20  V20     284807 non-null  float64\n",
      " 21  V21     284807 non-null  float64\n",
      " 22  V22     284807 non-null  float64\n",
      " 23  V23     284807 non-null  float64\n",
      " 24  V24     284807 non-null  float64\n",
      " 25  V25     284807 non-null  float64\n",
      " 26  V26     284807 non-null  float64\n",
      " 27  V27     284807 non-null  float64\n",
      " 28  V28     284807 non-null  float64\n",
      " 29  Amount  284807 non-null  float64\n",
      " 30  Class   284807 non-null  int64  \n",
      "dtypes: float64(30), int64(1)\n",
      "memory usage: 67.4 MB\n"
     ]
    }
   ],
   "source": [
    "# Info of the data\n",
    "df.info()"
   ]
  },
  {
   "cell_type": "code",
   "execution_count": 6,
   "id": "b17b463e",
   "metadata": {},
   "outputs": [
    {
     "data": {
      "text/plain": [
       "Time      0\n",
       "V1        0\n",
       "V2        0\n",
       "V3        0\n",
       "V4        0\n",
       "V5        0\n",
       "V6        0\n",
       "V7        0\n",
       "V8        0\n",
       "V9        0\n",
       "V10       0\n",
       "V11       0\n",
       "V12       0\n",
       "V13       0\n",
       "V14       0\n",
       "V15       0\n",
       "V16       0\n",
       "V17       0\n",
       "V18       0\n",
       "V19       0\n",
       "V20       0\n",
       "V21       0\n",
       "V22       0\n",
       "V23       0\n",
       "V24       0\n",
       "V25       0\n",
       "V26       0\n",
       "V27       0\n",
       "V28       0\n",
       "Amount    0\n",
       "Class     0\n",
       "dtype: int64"
      ]
     },
     "execution_count": 6,
     "metadata": {},
     "output_type": "execute_result"
    }
   ],
   "source": [
    "# Checking for missing values\n",
    "df.isnull().sum()"
   ]
  },
  {
   "cell_type": "code",
   "execution_count": 7,
   "id": "d0e6da7d",
   "metadata": {},
   "outputs": [],
   "source": [
    "# Data has no missing values"
   ]
  },
  {
   "cell_type": "code",
   "execution_count": 8,
   "id": "3e1bc136",
   "metadata": {},
   "outputs": [
    {
     "data": {
      "text/plain": [
       "0    284315\n",
       "1       492\n",
       "Name: Class, dtype: int64"
      ]
     },
     "execution_count": 8,
     "metadata": {},
     "output_type": "execute_result"
    }
   ],
   "source": [
    "# Checking for imbalance of the target variable\n",
    "df.Class.value_counts()"
   ]
  },
  {
   "cell_type": "code",
   "execution_count": 9,
   "id": "45e009cc",
   "metadata": {},
   "outputs": [
    {
     "data": {
      "image/png": "[encoded data removed]",
      "text/plain": [
       "<Figure size 432x288 with 1 Axes>"
      ]
     },
     "metadata": {
      "needs_background": "light"
     },
     "output_type": "display_data"
    }
   ],
   "source": [
    "df.Class.value_counts().plot.bar()\n",
    "plt.show()"
   ]
  },
  {
   "cell_type": "code",
   "execution_count": 10,
   "id": "d00ffaf6",
   "metadata": {},
   "outputs": [],
   "source": [
    "# We see that the target variable is highly imbalanced. We may have to imply oversampling techniques to counter this"
   ]
  },
  {
   "cell_type": "code",
   "execution_count": 11,
   "id": "b4c640fa",
   "metadata": {},
   "outputs": [],
   "source": [
    "# Since the data is masked, doing exploratory Data Analysis wouldn't make sense"
   ]
  },
  {
   "cell_type": "code",
   "execution_count": 12,
   "id": "d8825e93",
   "metadata": {},
   "outputs": [],
   "source": [
    "# We will go ahead with feature selection"
   ]
  },
  {
   "cell_type": "code",
   "execution_count": 13,
   "id": "b738e811",
   "metadata": {},
   "outputs": [],
   "source": [
    "# Distribution of the variables"
   ]
  },
  {
   "cell_type": "markdown",
   "id": "5a2e6ac1",
   "metadata": {},
   "source": [
    "# Feature Selection"
   ]
  },
  {
   "cell_type": "code",
   "execution_count": 14,
   "id": "cc44999e",
   "metadata": {},
   "outputs": [],
   "source": [
    "# Taking significance level at 0.05\n",
    "\n",
    "stat_df=pd.DataFrame() # making an empty dataframe to store name of feature and pvalue\n",
    "stat_df['Feature']=df.drop(columns='Class').columns\n",
    "pvalue=[]\n",
    "\n",
    "for i in df.drop(columns='Class').columns:\n",
    "    # Null Hypothesis: 'i' has no impact on the target variable\n",
    "    # Alternate Hypothesis: 'i' has an impact on the target variable\n",
    "    class_1=df.loc[df.Class==1,i]\n",
    "    class_0=df.loc[df.Class==0,i]\n",
    "    pvalue.append(stats.ttest_ind(class_1,class_0)[1])\n",
    "\n",
    "stat_df['Pvalue']=pvalue"
   ]
  },
  {
   "cell_type": "code",
   "execution_count": 15,
   "id": "912e47fd",
   "metadata": {},
   "outputs": [],
   "source": [
    "selected_features=stat_df.loc[stat_df.Pvalue<0.05]['Feature'].values"
   ]
  },
  {
   "cell_type": "markdown",
   "id": "9b13fe04",
   "metadata": {},
   "source": [
    "# Base Model"
   ]
  },
  {
   "cell_type": "code",
   "execution_count": 16,
   "id": "6891fbaa",
   "metadata": {},
   "outputs": [],
   "source": [
    "# We will proceed with a base model of linear regression\n",
    "\n",
    "# Splitting the data\n",
    "x=df[selected_features]\n",
    "y=df.Class\n",
    "x_train,x_test,y_train,y_test=train_test_split(x,y,test_size=0.30,stratify=y)"
   ]
  },
  {
   "cell_type": "code",
   "execution_count": 17,
   "id": "fd66d4be",
   "metadata": {},
   "outputs": [
    {
     "data": {
      "text/plain": [
       "((199364, 27), (85443, 27))"
      ]
     },
     "execution_count": 17,
     "metadata": {},
     "output_type": "execute_result"
    }
   ],
   "source": [
    "x_train.shape,x_test.shape"
   ]
  },
  {
   "cell_type": "code",
   "execution_count": 18,
   "id": "5869e81b",
   "metadata": {},
   "outputs": [],
   "source": [
    "# Scaling the data\n",
    "sc=StandardScaler()\n",
    "x_train_s=pd.DataFrame(sc.fit_transform(x_train),columns=x_train.columns)\n",
    "x_test_s=pd.DataFrame(sc.transform(x_test),columns=x_test.columns)"
   ]
  },
  {
   "cell_type": "code",
   "execution_count": 19,
   "id": "210e481a",
   "metadata": {},
   "outputs": [],
   "source": [
    "# Adding constant column in x_train and x_test\n",
    "x_train_s=sm.add_constant(x_train_s)\n",
    "x_test_s=sm.add_constant(x_test_s)"
   ]
  },
  {
   "cell_type": "code",
   "execution_count": 20,
   "id": "1daaef5c",
   "metadata": {},
   "outputs": [],
   "source": [
    "y_train=y_train.reset_index().drop(columns='index')\n",
    "y_test=y_test.reset_index().drop(columns='index')"
   ]
  },
  {
   "cell_type": "code",
   "execution_count": 21,
   "id": "ce97d70e",
   "metadata": {},
   "outputs": [],
   "source": [
    "# before model bulding we will build an evaluation function\n",
    "\n",
    "def evaluation(y_test,y_pred):\n",
    "    \n",
    "    print('Accuracy Score:',accuracy_score(y_test,y_pred))\n",
    "    print('f1_score:',f1_score(y_test,y_pred))\n",
    "    print('Precision:',precision_score(y_test,y_pred))\n",
    "    print('Recall:',recall_score(y_test,y_pred))\n",
    "    print('Classification report:\\n',classification_report(y_test,y_pred))\n",
    "    cm=confusion_matrix(y_test,y_pred)\n",
    "    ConfusionMatrixDisplay(cm).plot()\n",
    "    plt.title('Confusion matrix for the given prediction')\n",
    "    plt.show()\n",
    "    \n",
    "# Our evaluation fucntion is now created"
   ]
  },
  {
   "cell_type": "code",
   "execution_count": 22,
   "id": "061d563b",
   "metadata": {},
   "outputs": [
    {
     "name": "stdout",
     "output_type": "stream",
     "text": [
      "Optimization terminated successfully.\n",
      "         Current function value: 0.003634\n",
      "         Iterations 14\n"
     ]
    }
   ],
   "source": [
    "# Fitting a model\n",
    "base_model=sm.Logit(y_train,x_train_s).fit()\n",
    "y_pred_proba=base_model.predict(x_test_s)"
   ]
  },
  {
   "cell_type": "code",
   "execution_count": 23,
   "id": "cdb12120",
   "metadata": {},
   "outputs": [
    {
     "data": {
      "text/html": [
       "<table class=\"simpletable\">\n",
       "<caption>Logit Regression Results</caption>\n",
       "<tr>\n",
       "  <th>Dep. Variable:</th>         <td>Class</td>      <th>  No. Observations:  </th>  <td>199364</td> \n",
       "</tr>\n",
       "<tr>\n",
       "  <th>Model:</th>                 <td>Logit</td>      <th>  Df Residuals:      </th>  <td>199336</td> \n",
       "</tr>\n",
       "<tr>\n",
       "  <th>Method:</th>                 <td>MLE</td>       <th>  Df Model:          </th>  <td>    27</td> \n",
       "</tr>\n",
       "<tr>\n",
       "  <th>Date:</th>            <td>Tue, 18 Oct 2022</td> <th>  Pseudo R-squ.:     </th>  <td>0.7139</td> \n",
       "</tr>\n",
       "<tr>\n",
       "  <th>Time:</th>                <td>12:58:06</td>     <th>  Log-Likelihood:    </th> <td> -724.43</td>\n",
       "</tr>\n",
       "<tr>\n",
       "  <th>converged:</th>             <td>True</td>       <th>  LL-Null:           </th> <td> -2532.3</td>\n",
       "</tr>\n",
       "<tr>\n",
       "  <th>Covariance Type:</th>     <td>nonrobust</td>    <th>  LLR p-value:       </th>  <td> 0.000</td> \n",
       "</tr>\n",
       "</table>\n",
       "<table class=\"simpletable\">\n",
       "<tr>\n",
       "     <td></td>       <th>coef</th>     <th>std err</th>      <th>z</th>      <th>P>|z|</th>  <th>[0.025</th>    <th>0.975]</th>  \n",
       "</tr>\n",
       "<tr>\n",
       "  <th>const</th>  <td>   -8.7094</td> <td>    0.190</td> <td>  -45.885</td> <td> 0.000</td> <td>   -9.081</td> <td>   -8.337</td>\n",
       "</tr>\n",
       "<tr>\n",
       "  <th>Time</th>   <td>   -0.1500</td> <td>    0.125</td> <td>   -1.196</td> <td> 0.232</td> <td>   -0.396</td> <td>    0.096</td>\n",
       "</tr>\n",
       "<tr>\n",
       "  <th>V1</th>     <td>    0.2017</td> <td>    0.107</td> <td>    1.880</td> <td> 0.060</td> <td>   -0.009</td> <td>    0.412</td>\n",
       "</tr>\n",
       "<tr>\n",
       "  <th>V2</th>     <td>    0.1025</td> <td>    0.142</td> <td>    0.720</td> <td> 0.471</td> <td>   -0.177</td> <td>    0.382</td>\n",
       "</tr>\n",
       "<tr>\n",
       "  <th>V3</th>     <td>    0.1149</td> <td>    0.105</td> <td>    1.098</td> <td> 0.272</td> <td>   -0.090</td> <td>    0.320</td>\n",
       "</tr>\n",
       "<tr>\n",
       "  <th>V4</th>     <td>    1.0506</td> <td>    0.149</td> <td>    7.034</td> <td> 0.000</td> <td>    0.758</td> <td>    1.343</td>\n",
       "</tr>\n",
       "<tr>\n",
       "  <th>V5</th>     <td>    0.2341</td> <td>    0.125</td> <td>    1.875</td> <td> 0.061</td> <td>   -0.011</td> <td>    0.479</td>\n",
       "</tr>\n",
       "<tr>\n",
       "  <th>V6</th>     <td>   -0.1271</td> <td>    0.125</td> <td>   -1.015</td> <td> 0.310</td> <td>   -0.373</td> <td>    0.118</td>\n",
       "</tr>\n",
       "<tr>\n",
       "  <th>V7</th>     <td>   -0.0974</td> <td>    0.113</td> <td>   -0.860</td> <td> 0.390</td> <td>   -0.319</td> <td>    0.125</td>\n",
       "</tr>\n",
       "<tr>\n",
       "  <th>V8</th>     <td>   -0.2320</td> <td>    0.050</td> <td>   -4.645</td> <td> 0.000</td> <td>   -0.330</td> <td>   -0.134</td>\n",
       "</tr>\n",
       "<tr>\n",
       "  <th>V9</th>     <td>   -0.1958</td> <td>    0.164</td> <td>   -1.191</td> <td> 0.234</td> <td>   -0.518</td> <td>    0.126</td>\n",
       "</tr>\n",
       "<tr>\n",
       "  <th>V10</th>    <td>   -0.9274</td> <td>    0.144</td> <td>   -6.445</td> <td> 0.000</td> <td>   -1.209</td> <td>   -0.645</td>\n",
       "</tr>\n",
       "<tr>\n",
       "  <th>V11</th>    <td>   -0.0251</td> <td>    0.102</td> <td>   -0.245</td> <td> 0.806</td> <td>   -0.226</td> <td>    0.176</td>\n",
       "</tr>\n",
       "<tr>\n",
       "  <th>V12</th>    <td>    0.0526</td> <td>    0.118</td> <td>    0.448</td> <td> 0.654</td> <td>   -0.178</td> <td>    0.283</td>\n",
       "</tr>\n",
       "<tr>\n",
       "  <th>V13</th>    <td>   -0.3567</td> <td>    0.099</td> <td>   -3.614</td> <td> 0.000</td> <td>   -0.550</td> <td>   -0.163</td>\n",
       "</tr>\n",
       "<tr>\n",
       "  <th>V14</th>    <td>   -0.5083</td> <td>    0.078</td> <td>   -6.534</td> <td> 0.000</td> <td>   -0.661</td> <td>   -0.356</td>\n",
       "</tr>\n",
       "<tr>\n",
       "  <th>V15</th>    <td>   -0.0576</td> <td>    0.100</td> <td>   -0.577</td> <td> 0.564</td> <td>   -0.253</td> <td>    0.138</td>\n",
       "</tr>\n",
       "<tr>\n",
       "  <th>V16</th>    <td>   -0.3202</td> <td>    0.129</td> <td>   -2.489</td> <td> 0.013</td> <td>   -0.572</td> <td>   -0.068</td>\n",
       "</tr>\n",
       "<tr>\n",
       "  <th>V17</th>    <td>   -0.1446</td> <td>    0.079</td> <td>   -1.819</td> <td> 0.069</td> <td>   -0.300</td> <td>    0.011</td>\n",
       "</tr>\n",
       "<tr>\n",
       "  <th>V18</th>    <td>    0.0866</td> <td>    0.133</td> <td>    0.652</td> <td> 0.514</td> <td>   -0.174</td> <td>    0.347</td>\n",
       "</tr>\n",
       "<tr>\n",
       "  <th>V19</th>    <td>    0.0032</td> <td>    0.100</td> <td>    0.033</td> <td> 0.974</td> <td>   -0.192</td> <td>    0.198</td>\n",
       "</tr>\n",
       "<tr>\n",
       "  <th>V20</th>    <td>   -0.3939</td> <td>    0.084</td> <td>   -4.663</td> <td> 0.000</td> <td>   -0.560</td> <td>   -0.228</td>\n",
       "</tr>\n",
       "<tr>\n",
       "  <th>V21</th>    <td>    0.1092</td> <td>    0.042</td> <td>    2.577</td> <td> 0.010</td> <td>    0.026</td> <td>    0.192</td>\n",
       "</tr>\n",
       "<tr>\n",
       "  <th>V24</th>    <td>    0.0691</td> <td>    0.113</td> <td>    0.612</td> <td> 0.541</td> <td>   -0.152</td> <td>    0.290</td>\n",
       "</tr>\n",
       "<tr>\n",
       "  <th>V26</th>    <td>   -0.0035</td> <td>    0.113</td> <td>   -0.031</td> <td> 0.975</td> <td>   -0.225</td> <td>    0.218</td>\n",
       "</tr>\n",
       "<tr>\n",
       "  <th>V27</th>    <td>   -0.3908</td> <td>    0.064</td> <td>   -6.130</td> <td> 0.000</td> <td>   -0.516</td> <td>   -0.266</td>\n",
       "</tr>\n",
       "<tr>\n",
       "  <th>V28</th>    <td>   -0.1473</td> <td>    0.047</td> <td>   -3.141</td> <td> 0.002</td> <td>   -0.239</td> <td>   -0.055</td>\n",
       "</tr>\n",
       "<tr>\n",
       "  <th>Amount</th> <td>    0.2810</td> <td>    0.136</td> <td>    2.068</td> <td> 0.039</td> <td>    0.015</td> <td>    0.547</td>\n",
       "</tr>\n",
       "</table><br/><br/>Possibly complete quasi-separation: A fraction 0.30 of observations can be<br/>perfectly predicted. This might indicate that there is complete<br/>quasi-separation. In this case some parameters will not be identified."
      ],
      "text/plain": [
       "<class 'statsmodels.iolib.summary.Summary'>\n",
       "\"\"\"\n",
       "                           Logit Regression Results                           \n",
       "==============================================================================\n",
       "Dep. Variable:                  Class   No. Observations:               199364\n",
       "Model:                          Logit   Df Residuals:                   199336\n",
       "Method:                           MLE   Df Model:                           27\n",
       "Date:                Tue, 18 Oct 2022   Pseudo R-squ.:                  0.7139\n",
       "Time:                        12:58:06   Log-Likelihood:                -724.43\n",
       "converged:                       True   LL-Null:                       -2532.3\n",
       "Covariance Type:            nonrobust   LLR p-value:                     0.000\n",
       "==============================================================================\n",
       "                 coef    std err          z      P>|z|      [0.025      0.975]\n",
       "------------------------------------------------------------------------------\n",
       "const         -8.7094      0.190    -45.885      0.000      -9.081      -8.337\n",
       "Time          -0.1500      0.125     -1.196      0.232      -0.396       0.096\n",
       "V1             0.2017      0.107      1.880      0.060      -0.009       0.412\n",
       "V2             0.1025      0.142      0.720      0.471      -0.177       0.382\n",
       "V3             0.1149      0.105      1.098      0.272      -0.090       0.320\n",
       "V4             1.0506      0.149      7.034      0.000       0.758       1.343\n",
       "V5             0.2341      0.125      1.875      0.061      -0.011       0.479\n",
       "V6            -0.1271      0.125     -1.015      0.310      -0.373       0.118\n",
       "V7            -0.0974      0.113     -0.860      0.390      -0.319       0.125\n",
       "V8            -0.2320      0.050     -4.645      0.000      -0.330      -0.134\n",
       "V9            -0.1958      0.164     -1.191      0.234      -0.518       0.126\n",
       "V10           -0.9274      0.144     -6.445      0.000      -1.209      -0.645\n",
       "V11           -0.0251      0.102     -0.245      0.806      -0.226       0.176\n",
       "V12            0.0526      0.118      0.448      0.654      -0.178       0.283\n",
       "V13           -0.3567      0.099     -3.614      0.000      -0.550      -0.163\n",
       "V14           -0.5083      0.078     -6.534      0.000      -0.661      -0.356\n",
       "V15           -0.0576      0.100     -0.577      0.564      -0.253       0.138\n",
       "V16           -0.3202      0.129     -2.489      0.013      -0.572      -0.068\n",
       "V17           -0.1446      0.079     -1.819      0.069      -0.300       0.011\n",
       "V18            0.0866      0.133      0.652      0.514      -0.174       0.347\n",
       "V19            0.0032      0.100      0.033      0.974      -0.192       0.198\n",
       "V20           -0.3939      0.084     -4.663      0.000      -0.560      -0.228\n",
       "V21            0.1092      0.042      2.577      0.010       0.026       0.192\n",
       "V24            0.0691      0.113      0.612      0.541      -0.152       0.290\n",
       "V26           -0.0035      0.113     -0.031      0.975      -0.225       0.218\n",
       "V27           -0.3908      0.064     -6.130      0.000      -0.516      -0.266\n",
       "V28           -0.1473      0.047     -3.141      0.002      -0.239      -0.055\n",
       "Amount         0.2810      0.136      2.068      0.039       0.015       0.547\n",
       "==============================================================================\n",
       "\n",
       "Possibly complete quasi-separation: A fraction 0.30 of observations can be\n",
       "perfectly predicted. This might indicate that there is complete\n",
       "quasi-separation. In this case some parameters will not be identified.\n",
       "\"\"\""
      ]
     },
     "execution_count": 23,
     "metadata": {},
     "output_type": "execute_result"
    }
   ],
   "source": [
    "# Summary of the model\n",
    "base_model.summary()"
   ]
  },
  {
   "cell_type": "code",
   "execution_count": 24,
   "id": "67591519",
   "metadata": {},
   "outputs": [],
   "source": [
    "y_pred=[]\n",
    "\n",
    "# Taking threshold for probability at 0.5\n",
    "for i in y_pred_proba:\n",
    "    if i>0.5:\n",
    "        y_pred.append(1)\n",
    "    else:\n",
    "        y_pred.append(0)"
   ]
  },
  {
   "cell_type": "code",
   "execution_count": 25,
   "id": "90752cbc",
   "metadata": {},
   "outputs": [
    {
     "name": "stdout",
     "output_type": "stream",
     "text": [
      "Accuracy Score: 0.9991222218320986\n",
      "f1_score: 0.7058823529411764\n",
      "Precision: 0.8411214953271028\n",
      "Recall: 0.6081081081081081\n",
      "Classification report:\n",
      "               precision    recall  f1-score   support\n",
      "\n",
      "           0       1.00      1.00      1.00     85295\n",
      "           1       0.84      0.61      0.71       148\n",
      "\n",
      "    accuracy                           1.00     85443\n",
      "   macro avg       0.92      0.80      0.85     85443\n",
      "weighted avg       1.00      1.00      1.00     85443\n",
      "\n"
     ]
    },
    {
     "data": {
      "image/png": "[encoded data removed]",
      "text/plain": [
       "<Figure size 432x288 with 2 Axes>"
      ]
     },
     "metadata": {
      "needs_background": "light"
     },
     "output_type": "display_data"
    }
   ],
   "source": [
    "# Evaluating the model\n",
    "evaluation(y_test,y_pred)"
   ]
  },
  {
   "cell_type": "markdown",
   "id": "86abfa5e",
   "metadata": {},
   "source": [
    "#### We observe that we get an excellent accuracy score of 99.9% but a poor recall score. This due to the high imbalance in the target class. We will try some oversampling techniques to see if we can counter this."
   ]
  },
  {
   "cell_type": "markdown",
   "id": "01ab1b3a",
   "metadata": {},
   "source": [
    "# SMOTE"
   ]
  },
  {
   "cell_type": "code",
   "execution_count": 26,
   "id": "c40a7a71",
   "metadata": {},
   "outputs": [],
   "source": [
    "x_train_sampled,y_train_sampled=SMOTE().fit_resample(x_train_s,y_train)"
   ]
  },
  {
   "cell_type": "code",
   "execution_count": 27,
   "id": "9f1d47c3",
   "metadata": {},
   "outputs": [],
   "source": [
    "# we now have an oversampled training set\n",
    "# We will apply the Logistic regression model again"
   ]
  },
  {
   "cell_type": "code",
   "execution_count": 28,
   "id": "106c6b57",
   "metadata": {},
   "outputs": [
    {
     "name": "stdout",
     "output_type": "stream",
     "text": [
      "Optimization terminated successfully.\n",
      "         Current function value: 0.138634\n",
      "         Iterations 14\n"
     ]
    }
   ],
   "source": [
    "model=sm.Logit(y_train_sampled,x_train_sampled).fit()\n",
    "y_pred_proba=model.predict(x_test_s)"
   ]
  },
  {
   "cell_type": "code",
   "execution_count": 29,
   "id": "f8513cfe",
   "metadata": {},
   "outputs": [
    {
     "data": {
      "text/html": [
       "<table class=\"simpletable\">\n",
       "<caption>Logit Regression Results</caption>\n",
       "<tr>\n",
       "  <th>Dep. Variable:</th>         <td>Class</td>      <th>  No. Observations:  </th>   <td>398040</td>   \n",
       "</tr>\n",
       "<tr>\n",
       "  <th>Model:</th>                 <td>Logit</td>      <th>  Df Residuals:      </th>   <td>398012</td>   \n",
       "</tr>\n",
       "<tr>\n",
       "  <th>Method:</th>                 <td>MLE</td>       <th>  Df Model:          </th>   <td>    27</td>   \n",
       "</tr>\n",
       "<tr>\n",
       "  <th>Date:</th>            <td>Tue, 18 Oct 2022</td> <th>  Pseudo R-squ.:     </th>   <td>0.8000</td>   \n",
       "</tr>\n",
       "<tr>\n",
       "  <th>Time:</th>                <td>12:58:09</td>     <th>  Log-Likelihood:    </th>  <td> -55182.</td>  \n",
       "</tr>\n",
       "<tr>\n",
       "  <th>converged:</th>             <td>True</td>       <th>  LL-Null:           </th> <td>-2.7590e+05</td>\n",
       "</tr>\n",
       "<tr>\n",
       "  <th>Covariance Type:</th>     <td>nonrobust</td>    <th>  LLR p-value:       </th>   <td> 0.000</td>   \n",
       "</tr>\n",
       "</table>\n",
       "<table class=\"simpletable\">\n",
       "<tr>\n",
       "     <td></td>       <th>coef</th>     <th>std err</th>      <th>z</th>      <th>P>|z|</th>  <th>[0.025</th>    <th>0.975]</th>  \n",
       "</tr>\n",
       "<tr>\n",
       "  <th>const</th>  <td>   -3.5375</td> <td>    0.017</td> <td> -214.171</td> <td> 0.000</td> <td>   -3.570</td> <td>   -3.505</td>\n",
       "</tr>\n",
       "<tr>\n",
       "  <th>Time</th>   <td>   -0.4348</td> <td>    0.012</td> <td>  -37.241</td> <td> 0.000</td> <td>   -0.458</td> <td>   -0.412</td>\n",
       "</tr>\n",
       "<tr>\n",
       "  <th>V1</th>     <td>    0.9318</td> <td>    0.021</td> <td>   45.240</td> <td> 0.000</td> <td>    0.891</td> <td>    0.972</td>\n",
       "</tr>\n",
       "<tr>\n",
       "  <th>V2</th>     <td>    0.2123</td> <td>    0.020</td> <td>   10.365</td> <td> 0.000</td> <td>    0.172</td> <td>    0.252</td>\n",
       "</tr>\n",
       "<tr>\n",
       "  <th>V3</th>     <td>    0.2718</td> <td>    0.012</td> <td>   21.852</td> <td> 0.000</td> <td>    0.247</td> <td>    0.296</td>\n",
       "</tr>\n",
       "<tr>\n",
       "  <th>V4</th>     <td>    1.3106</td> <td>    0.013</td> <td>  104.798</td> <td> 0.000</td> <td>    1.286</td> <td>    1.335</td>\n",
       "</tr>\n",
       "<tr>\n",
       "  <th>V5</th>     <td>    0.6947</td> <td>    0.013</td> <td>   54.962</td> <td> 0.000</td> <td>    0.670</td> <td>    0.719</td>\n",
       "</tr>\n",
       "<tr>\n",
       "  <th>V6</th>     <td>   -0.3390</td> <td>    0.012</td> <td>  -29.182</td> <td> 0.000</td> <td>   -0.362</td> <td>   -0.316</td>\n",
       "</tr>\n",
       "<tr>\n",
       "  <th>V7</th>     <td>    0.0402</td> <td>    0.012</td> <td>    3.429</td> <td> 0.001</td> <td>    0.017</td> <td>    0.063</td>\n",
       "</tr>\n",
       "<tr>\n",
       "  <th>V8</th>     <td>   -0.6457</td> <td>    0.012</td> <td>  -55.540</td> <td> 0.000</td> <td>   -0.669</td> <td>   -0.623</td>\n",
       "</tr>\n",
       "<tr>\n",
       "  <th>V9</th>     <td>   -0.2590</td> <td>    0.015</td> <td>  -17.675</td> <td> 0.000</td> <td>   -0.288</td> <td>   -0.230</td>\n",
       "</tr>\n",
       "<tr>\n",
       "  <th>V10</th>    <td>   -0.9970</td> <td>    0.019</td> <td>  -52.164</td> <td> 0.000</td> <td>   -1.034</td> <td>   -0.960</td>\n",
       "</tr>\n",
       "<tr>\n",
       "  <th>V11</th>    <td>    0.6655</td> <td>    0.012</td> <td>   55.941</td> <td> 0.000</td> <td>    0.642</td> <td>    0.689</td>\n",
       "</tr>\n",
       "<tr>\n",
       "  <th>V12</th>    <td>   -0.8331</td> <td>    0.017</td> <td>  -48.914</td> <td> 0.000</td> <td>   -0.866</td> <td>   -0.800</td>\n",
       "</tr>\n",
       "<tr>\n",
       "  <th>V13</th>    <td>   -0.4379</td> <td>    0.008</td> <td>  -53.899</td> <td> 0.000</td> <td>   -0.454</td> <td>   -0.422</td>\n",
       "</tr>\n",
       "<tr>\n",
       "  <th>V14</th>    <td>   -1.3142</td> <td>    0.017</td> <td>  -75.974</td> <td> 0.000</td> <td>   -1.348</td> <td>   -1.280</td>\n",
       "</tr>\n",
       "<tr>\n",
       "  <th>V15</th>    <td>   -0.0166</td> <td>    0.008</td> <td>   -2.027</td> <td> 0.043</td> <td>   -0.033</td> <td>   -0.001</td>\n",
       "</tr>\n",
       "<tr>\n",
       "  <th>V16</th>    <td>   -0.8383</td> <td>    0.015</td> <td>  -57.755</td> <td> 0.000</td> <td>   -0.867</td> <td>   -0.810</td>\n",
       "</tr>\n",
       "<tr>\n",
       "  <th>V17</th>    <td>   -0.8747</td> <td>    0.020</td> <td>  -44.495</td> <td> 0.000</td> <td>   -0.913</td> <td>   -0.836</td>\n",
       "</tr>\n",
       "<tr>\n",
       "  <th>V18</th>    <td>   -0.0425</td> <td>    0.012</td> <td>   -3.563</td> <td> 0.000</td> <td>   -0.066</td> <td>   -0.019</td>\n",
       "</tr>\n",
       "<tr>\n",
       "  <th>V19</th>    <td>    0.1032</td> <td>    0.009</td> <td>   11.258</td> <td> 0.000</td> <td>    0.085</td> <td>    0.121</td>\n",
       "</tr>\n",
       "<tr>\n",
       "  <th>V20</th>    <td>   -0.2773</td> <td>    0.013</td> <td>  -21.454</td> <td> 0.000</td> <td>   -0.303</td> <td>   -0.252</td>\n",
       "</tr>\n",
       "<tr>\n",
       "  <th>V21</th>    <td>    0.0352</td> <td>    0.008</td> <td>    4.399</td> <td> 0.000</td> <td>    0.020</td> <td>    0.051</td>\n",
       "</tr>\n",
       "<tr>\n",
       "  <th>V24</th>    <td>    0.0147</td> <td>    0.010</td> <td>    1.512</td> <td> 0.131</td> <td>   -0.004</td> <td>    0.034</td>\n",
       "</tr>\n",
       "<tr>\n",
       "  <th>V26</th>    <td>   -0.1686</td> <td>    0.010</td> <td>  -16.593</td> <td> 0.000</td> <td>   -0.189</td> <td>   -0.149</td>\n",
       "</tr>\n",
       "<tr>\n",
       "  <th>V27</th>    <td>    0.3577</td> <td>    0.013</td> <td>   26.818</td> <td> 0.000</td> <td>    0.332</td> <td>    0.384</td>\n",
       "</tr>\n",
       "<tr>\n",
       "  <th>V28</th>    <td>    0.1783</td> <td>    0.012</td> <td>   15.199</td> <td> 0.000</td> <td>    0.155</td> <td>    0.201</td>\n",
       "</tr>\n",
       "<tr>\n",
       "  <th>Amount</th> <td>    0.8140</td> <td>    0.023</td> <td>   34.681</td> <td> 0.000</td> <td>    0.768</td> <td>    0.860</td>\n",
       "</tr>\n",
       "</table><br/><br/>Possibly complete quasi-separation: A fraction 0.42 of observations can be<br/>perfectly predicted. This might indicate that there is complete<br/>quasi-separation. In this case some parameters will not be identified."
      ],
      "text/plain": [
       "<class 'statsmodels.iolib.summary.Summary'>\n",
       "\"\"\"\n",
       "                           Logit Regression Results                           \n",
       "==============================================================================\n",
       "Dep. Variable:                  Class   No. Observations:               398040\n",
       "Model:                          Logit   Df Residuals:                   398012\n",
       "Method:                           MLE   Df Model:                           27\n",
       "Date:                Tue, 18 Oct 2022   Pseudo R-squ.:                  0.8000\n",
       "Time:                        12:58:09   Log-Likelihood:                -55182.\n",
       "converged:                       True   LL-Null:                   -2.7590e+05\n",
       "Covariance Type:            nonrobust   LLR p-value:                     0.000\n",
       "==============================================================================\n",
       "                 coef    std err          z      P>|z|      [0.025      0.975]\n",
       "------------------------------------------------------------------------------\n",
       "const         -3.5375      0.017   -214.171      0.000      -3.570      -3.505\n",
       "Time          -0.4348      0.012    -37.241      0.000      -0.458      -0.412\n",
       "V1             0.9318      0.021     45.240      0.000       0.891       0.972\n",
       "V2             0.2123      0.020     10.365      0.000       0.172       0.252\n",
       "V3             0.2718      0.012     21.852      0.000       0.247       0.296\n",
       "V4             1.3106      0.013    104.798      0.000       1.286       1.335\n",
       "V5             0.6947      0.013     54.962      0.000       0.670       0.719\n",
       "V6            -0.3390      0.012    -29.182      0.000      -0.362      -0.316\n",
       "V7             0.0402      0.012      3.429      0.001       0.017       0.063\n",
       "V8            -0.6457      0.012    -55.540      0.000      -0.669      -0.623\n",
       "V9            -0.2590      0.015    -17.675      0.000      -0.288      -0.230\n",
       "V10           -0.9970      0.019    -52.164      0.000      -1.034      -0.960\n",
       "V11            0.6655      0.012     55.941      0.000       0.642       0.689\n",
       "V12           -0.8331      0.017    -48.914      0.000      -0.866      -0.800\n",
       "V13           -0.4379      0.008    -53.899      0.000      -0.454      -0.422\n",
       "V14           -1.3142      0.017    -75.974      0.000      -1.348      -1.280\n",
       "V15           -0.0166      0.008     -2.027      0.043      -0.033      -0.001\n",
       "V16           -0.8383      0.015    -57.755      0.000      -0.867      -0.810\n",
       "V17           -0.8747      0.020    -44.495      0.000      -0.913      -0.836\n",
       "V18           -0.0425      0.012     -3.563      0.000      -0.066      -0.019\n",
       "V19            0.1032      0.009     11.258      0.000       0.085       0.121\n",
       "V20           -0.2773      0.013    -21.454      0.000      -0.303      -0.252\n",
       "V21            0.0352      0.008      4.399      0.000       0.020       0.051\n",
       "V24            0.0147      0.010      1.512      0.131      -0.004       0.034\n",
       "V26           -0.1686      0.010    -16.593      0.000      -0.189      -0.149\n",
       "V27            0.3577      0.013     26.818      0.000       0.332       0.384\n",
       "V28            0.1783      0.012     15.199      0.000       0.155       0.201\n",
       "Amount         0.8140      0.023     34.681      0.000       0.768       0.860\n",
       "==============================================================================\n",
       "\n",
       "Possibly complete quasi-separation: A fraction 0.42 of observations can be\n",
       "perfectly predicted. This might indicate that there is complete\n",
       "quasi-separation. In this case some parameters will not be identified.\n",
       "\"\"\""
      ]
     },
     "execution_count": 29,
     "metadata": {},
     "output_type": "execute_result"
    }
   ],
   "source": [
    "model.summary()"
   ]
  },
  {
   "cell_type": "code",
   "execution_count": 30,
   "id": "e51effea",
   "metadata": {},
   "outputs": [],
   "source": [
    "y_pred=[]\n",
    "\n",
    "# Taking threshold for probability at 0.5\n",
    "for i in y_pred_proba:\n",
    "    if i>0.5:\n",
    "        y_pred.append(1)\n",
    "    else:\n",
    "        y_pred.append(0)"
   ]
  },
  {
   "cell_type": "code",
   "execution_count": 31,
   "id": "b3b10cfb",
   "metadata": {},
   "outputs": [
    {
     "name": "stdout",
     "output_type": "stream",
     "text": [
      "Accuracy Score: 0.978792879463502\n",
      "f1_score: 0.12800769971126086\n",
      "Precision: 0.0689119170984456\n",
      "Recall: 0.8986486486486487\n",
      "Classification report:\n",
      "               precision    recall  f1-score   support\n",
      "\n",
      "           0       1.00      0.98      0.99     85295\n",
      "           1       0.07      0.90      0.13       148\n",
      "\n",
      "    accuracy                           0.98     85443\n",
      "   macro avg       0.53      0.94      0.56     85443\n",
      "weighted avg       1.00      0.98      0.99     85443\n",
      "\n"
     ]
    },
    {
     "data": {
      "image/png": "[encoded data removed]",
      "text/plain": [
       "<Figure size 432x288 with 2 Axes>"
      ]
     },
     "metadata": {
      "needs_background": "light"
     },
     "output_type": "display_data"
    }
   ],
   "source": [
    "# Evaluation of the model\n",
    "evaluation(y_test,y_pred)"
   ]
  },
  {
   "cell_type": "code",
   "execution_count": 60,
   "id": "b17108d7",
   "metadata": {},
   "outputs": [
    {
     "data": {
      "image/png": "[encoded data removed]",
      "text/plain": [
       "<Figure size 720x864 with 1 Axes>"
      ]
     },
     "metadata": {
      "needs_background": "light"
     },
     "output_type": "display_data"
    }
   ],
   "source": [
    "plt.rcParams['figure.figsize']=[10,12]\n",
    "plt.barh(y=model.params.index,width=model.params.values)\n",
    "plt.title('Feature Importance')\n",
    "plt.ylabel('Feature')\n",
    "plt.xlabel('Coefficient in the model')\n",
    "plt.show()"
   ]
  },
  {
   "cell_type": "markdown",
   "id": "aeab4458",
   "metadata": {},
   "source": [
    "#### We observe that our recall score has imporved considerably in case of a Logistic Regression model. We will further see whether our model could improve through some tree based models."
   ]
  },
  {
   "cell_type": "markdown",
   "id": "d891b09f",
   "metadata": {},
   "source": [
    "# Decision Tree"
   ]
  },
  {
   "cell_type": "code",
   "execution_count": 32,
   "id": "9bb5ac59",
   "metadata": {},
   "outputs": [],
   "source": [
    "# Since we are using decision tree we won't be needing to scale the split"
   ]
  },
  {
   "cell_type": "code",
   "execution_count": 33,
   "id": "5c8a388a",
   "metadata": {},
   "outputs": [],
   "source": [
    "# We will usie smote to resample the data again\n",
    "x_train_sampled,y_train_sampled=SMOTE().fit_resample(x_train,y_train)"
   ]
  },
  {
   "cell_type": "code",
   "execution_count": 34,
   "id": "d6b152f3",
   "metadata": {},
   "outputs": [],
   "source": [
    "dtree=DecisionTreeClassifier(max_depth=5)\n",
    "dt_model=dtree.fit(x_train_sampled,y_train_sampled)\n",
    "y_pred=dt_model.predict(x_test)"
   ]
  },
  {
   "cell_type": "code",
   "execution_count": 35,
   "id": "8cdde1d0",
   "metadata": {},
   "outputs": [
    {
     "name": "stdout",
     "output_type": "stream",
     "text": [
      "Accuracy Score: 0.9886825134885245\n",
      "f1_score: 0.20932134096484056\n",
      "Precision: 0.11906976744186047\n",
      "Recall: 0.8648648648648649\n",
      "Classification report:\n",
      "               precision    recall  f1-score   support\n",
      "\n",
      "           0       1.00      0.99      0.99     85295\n",
      "           1       0.12      0.86      0.21       148\n",
      "\n",
      "    accuracy                           0.99     85443\n",
      "   macro avg       0.56      0.93      0.60     85443\n",
      "weighted avg       1.00      0.99      0.99     85443\n",
      "\n"
     ]
    },
    {
     "data": {
      "image/png": "[encoded data removed]",
      "text/plain": [
       "<Figure size 432x288 with 2 Axes>"
      ]
     },
     "metadata": {
      "needs_background": "light"
     },
     "output_type": "display_data"
    }
   ],
   "source": [
    "# Evaluating the model\n",
    "evaluation(y_test,y_pred)"
   ]
  },
  {
   "cell_type": "markdown",
   "id": "ad786e1a",
   "metadata": {},
   "source": [
    "#### We observe that Decision Tree performs worse than Losgistic Regression. We will now see whether bossting methods actually have a positive effect on the oversampled train data."
   ]
  },
  {
   "cell_type": "markdown",
   "id": "9ca8ad28",
   "metadata": {},
   "source": [
    "# Boosting"
   ]
  },
  {
   "cell_type": "code",
   "execution_count": 36,
   "id": "0ea2e039",
   "metadata": {},
   "outputs": [],
   "source": [
    "# For the boosting technique we will use the lightgbm framework"
   ]
  },
  {
   "cell_type": "code",
   "execution_count": 38,
   "id": "68aa8360",
   "metadata": {},
   "outputs": [],
   "source": [
    "lgbm=LGBMClassifier() # Going with default parameters\n",
    "lg_model=lgbm.fit(x_train_sampled,y_train_sampled)\n",
    "y_pred=lg_model.predict(x_test)"
   ]
  },
  {
   "cell_type": "code",
   "execution_count": 39,
   "id": "1d9d8b39",
   "metadata": {},
   "outputs": [
    {
     "name": "stdout",
     "output_type": "stream",
     "text": [
      "Accuracy Score: 0.9990871107053826\n",
      "f1_score: 0.7547169811320755\n",
      "Precision: 0.7058823529411765\n",
      "Recall: 0.8108108108108109\n",
      "Classification report:\n",
      "               precision    recall  f1-score   support\n",
      "\n",
      "           0       1.00      1.00      1.00     85295\n",
      "           1       0.71      0.81      0.75       148\n",
      "\n",
      "    accuracy                           1.00     85443\n",
      "   macro avg       0.85      0.91      0.88     85443\n",
      "weighted avg       1.00      1.00      1.00     85443\n",
      "\n"
     ]
    },
    {
     "data": {
      "image/png": "[encoded data removed]",
      "text/plain": [
       "<Figure size 432x288 with 2 Axes>"
      ]
     },
     "metadata": {
      "needs_background": "light"
     },
     "output_type": "display_data"
    }
   ],
   "source": [
    "# Model evaluation\n",
    "evaluation(y_test,y_pred)"
   ]
  },
  {
   "cell_type": "markdown",
   "id": "c4344615",
   "metadata": {},
   "source": [
    "#### We observe that the lightgbm model is performing poorly compared to Decision Tree in terms of recall score, but has a much better f1-score. Let us see whether we can improve the performance of the lightgbm model by increasing the weight of the positive class"
   ]
  },
  {
   "cell_type": "code",
   "execution_count": 46,
   "id": "901e841a",
   "metadata": {},
   "outputs": [],
   "source": [
    "lgbm=LGBMClassifier(scale_pos_weight=100)\n",
    "lg_model=lgbm.fit(x_train_sampled,y_train_sampled)\n",
    "y_pred=lg_model.predict(x_test)"
   ]
  },
  {
   "cell_type": "code",
   "execution_count": 48,
   "id": "9f377319",
   "metadata": {},
   "outputs": [
    {
     "name": "stdout",
     "output_type": "stream",
     "text": [
      "Accuracy Score: 0.996278220568098\n",
      "f1_score: 0.4381625441696113\n",
      "Precision: 0.2966507177033493\n",
      "Recall: 0.8378378378378378\n",
      "Classification report:\n",
      "               precision    recall  f1-score   support\n",
      "\n",
      "           0       1.00      1.00      1.00     85295\n",
      "           1       0.30      0.84      0.44       148\n",
      "\n",
      "    accuracy                           1.00     85443\n",
      "   macro avg       0.65      0.92      0.72     85443\n",
      "weighted avg       1.00      1.00      1.00     85443\n",
      "\n"
     ]
    },
    {
     "data": {
      "image/png": "[encoded data removed]",
      "text/plain": [
       "<Figure size 432x288 with 2 Axes>"
      ]
     },
     "metadata": {
      "needs_background": "light"
     },
     "output_type": "display_data"
    }
   ],
   "source": [
    "# Model evaluation\n",
    "evaluation(y_test,y_pred)"
   ]
  },
  {
   "cell_type": "markdown",
   "id": "6faada06",
   "metadata": {},
   "source": [
    "#### We observe that Lightgbm still doesn't have a better recall score than logistic regression or Decision tree, even with providing a higher weightage to the positive class. Out of all the models we tried so far, Logistic Regression seems to be working the best."
   ]
  },
  {
   "cell_type": "markdown",
   "id": "b68a6313",
   "metadata": {},
   "source": [
    "# Conclusion\n",
    "* Out of all the models we saw that Logistic Regression worked the best for us in terms of recall score, though the model had a lot of false positives.\n",
    "* The best method to solve the given problem was applying an oversampling technique(SMOTE) and then applying Logistic regression.\n",
    "* Tree based models seem to be giving a good f1-score but a poor recall score comparitively\n",
    "* Boosting methods seem to be performing the best in terms of having the least amount of false positives."
   ]
  }
 ],
 "metadata": {
  "kernelspec": {
   "display_name": "Python 3 (ipykernel)",
   "language": "python",
   "name": "python3"
  },
  "language_info": {
   "codemirror_mode": {
    "name": "ipython",
    "version": 3
   },
   "file_extension": ".py",
   "mimetype": "text/x-python",
   "name": "python",
   "nbconvert_exporter": "python",
   "pygments_lexer": "ipython3",
   "version": "3.9.7"
  }
 },
 "nbformat": 4,
 "nbformat_minor": 5
}
