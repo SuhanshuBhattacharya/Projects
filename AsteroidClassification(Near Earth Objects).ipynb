{
 "cells": [
  {
   "cell_type": "code",
   "execution_count": 84,
   "id": "7db7a543",
   "metadata": {},
   "outputs": [],
   "source": [
    "# Important libraries used\n",
    "# Basic libraries\n",
    "import numpy as np\n",
    "import pandas as pd\n",
    "from matplotlib import pyplot as plt\n",
    "import seaborn as sns\n",
    "import warnings\n",
    "warnings.filterwarnings('ignore')\n",
    "\n",
    "# For statistical tests\n",
    "import scipy.stats as stats\n",
    "\n",
    "# For handling multicolinearity\n",
    "from statsmodels.stats.outliers_influence import variance_inflation_factor\n",
    "\n",
    "# For model building\n",
    "from sklearn.linear_model import LogisticRegression\n",
    "from sklearn.tree import DecisionTreeClassifier\n",
    "from sklearn.ensemble import RandomForestClassifier,GradientBoostingClassifier\n",
    "from xgboost import XGBClassifier,XGBRFClassifier\n",
    "from lightgbm import LGBMClassifier\n",
    "\n",
    "# For evaluation\n",
    "from sklearn.metrics import f1_score,accuracy_score,confusion_matrix,ConfusionMatrixDisplay,classification_report\n",
    "from sklearn.metrics import recall_score,precision_score\n",
    "\n",
    "# for preprocessing and splitting of the data\n",
    "from sklearn.preprocessing import StandardScaler,MinMaxScaler\n",
    "from sklearn.model_selection import train_test_split"
   ]
  },
  {
   "cell_type": "code",
   "execution_count": 2,
   "id": "df217c8b",
   "metadata": {},
   "outputs": [],
   "source": [
    "data=pd.read_csv('neo.csv')"
   ]
  },
  {
   "cell_type": "code",
   "execution_count": 3,
   "id": "665c4597",
   "metadata": {},
   "outputs": [],
   "source": [
    "df=data.copy()"
   ]
  },
  {
   "cell_type": "markdown",
   "id": "31e47ac0",
   "metadata": {},
   "source": [
    "# About the Data"
   ]
  },
  {
   "cell_type": "markdown",
   "id": "c75ad9e5",
   "metadata": {},
   "source": [
    "#### There is an infinite number of objects in the outer space. Some of them are closer than we think. Even though we might think that a distance of 70,000 Km can not potentially harm us, but at an astronomical scale, this is a very small distance and can disrupt many natural phenomena. These objects/asteroids can thus prove to be harmful. Hence, it is wise to know what is surrounding us and what can harm us amongst those. Thus, this dataset compiles the list of NASA certified asteroids that are classified as the nearest earth object.\n",
    "#### Source: https://www.kaggle.com/datasets/sameepvani/nasa-nearest-earth-objects?select=neo.csv"
   ]
  },
  {
   "cell_type": "markdown",
   "id": "1e02fcc3",
   "metadata": {},
   "source": [
    "# Data Dictionary\n",
    "* id : Unique Identifier for each Asteroid\n",
    "* name: Name given by NASA\n",
    "* est_diameter_min: Minimum Estimated Diameter in Kilometres\n",
    "* est_diameter_max: Maximum Estimated Diameter in Kilometres\n",
    "* relative_velocity: Velocity Relative to Earth\n",
    "* miss_distance: Distance in Kilometres missed\n",
    "* orbiting_body: Planet that the asteroid orbits\n",
    "* sentry_object: Included in sentry - an automated collision monitoring system\n",
    "* absolute_magnitude: Describes intrinsic luminosity\n",
    "* hazardous: Boolean feature that shows whether asteroid is harmful or not"
   ]
  },
  {
   "cell_type": "markdown",
   "id": "1b8b9c0e",
   "metadata": {},
   "source": [
    "# Basic Data Reading and eyeballing"
   ]
  },
  {
   "cell_type": "code",
   "execution_count": 4,
   "id": "76be6b9a",
   "metadata": {},
   "outputs": [
    {
     "data": {
      "text/html": [
       "<div>\n",
       "<style scoped>\n",
       "    .dataframe tbody tr th:only-of-type {\n",
       "        vertical-align: middle;\n",
       "    }\n",
       "\n",
       "    .dataframe tbody tr th {\n",
       "        vertical-align: top;\n",
       "    }\n",
       "\n",
       "    .dataframe thead th {\n",
       "        text-align: right;\n",
       "    }\n",
       "</style>\n",
       "<table border=\"1\" class=\"dataframe\">\n",
       "  <thead>\n",
       "    <tr style=\"text-align: right;\">\n",
       "      <th></th>\n",
       "      <th>id</th>\n",
       "      <th>name</th>\n",
       "      <th>est_diameter_min</th>\n",
       "      <th>est_diameter_max</th>\n",
       "      <th>relative_velocity</th>\n",
       "      <th>miss_distance</th>\n",
       "      <th>orbiting_body</th>\n",
       "      <th>sentry_object</th>\n",
       "      <th>absolute_magnitude</th>\n",
       "      <th>hazardous</th>\n",
       "    </tr>\n",
       "  </thead>\n",
       "  <tbody>\n",
       "    <tr>\n",
       "      <th>0</th>\n",
       "      <td>2162635</td>\n",
       "      <td>162635 (2000 SS164)</td>\n",
       "      <td>1.198271</td>\n",
       "      <td>2.679415</td>\n",
       "      <td>13569.249224</td>\n",
       "      <td>5.483974e+07</td>\n",
       "      <td>Earth</td>\n",
       "      <td>False</td>\n",
       "      <td>16.73</td>\n",
       "      <td>False</td>\n",
       "    </tr>\n",
       "    <tr>\n",
       "      <th>1</th>\n",
       "      <td>2277475</td>\n",
       "      <td>277475 (2005 WK4)</td>\n",
       "      <td>0.265800</td>\n",
       "      <td>0.594347</td>\n",
       "      <td>73588.726663</td>\n",
       "      <td>6.143813e+07</td>\n",
       "      <td>Earth</td>\n",
       "      <td>False</td>\n",
       "      <td>20.00</td>\n",
       "      <td>True</td>\n",
       "    </tr>\n",
       "    <tr>\n",
       "      <th>2</th>\n",
       "      <td>2512244</td>\n",
       "      <td>512244 (2015 YE18)</td>\n",
       "      <td>0.722030</td>\n",
       "      <td>1.614507</td>\n",
       "      <td>114258.692129</td>\n",
       "      <td>4.979872e+07</td>\n",
       "      <td>Earth</td>\n",
       "      <td>False</td>\n",
       "      <td>17.83</td>\n",
       "      <td>False</td>\n",
       "    </tr>\n",
       "    <tr>\n",
       "      <th>3</th>\n",
       "      <td>3596030</td>\n",
       "      <td>(2012 BV13)</td>\n",
       "      <td>0.096506</td>\n",
       "      <td>0.215794</td>\n",
       "      <td>24764.303138</td>\n",
       "      <td>2.543497e+07</td>\n",
       "      <td>Earth</td>\n",
       "      <td>False</td>\n",
       "      <td>22.20</td>\n",
       "      <td>False</td>\n",
       "    </tr>\n",
       "    <tr>\n",
       "      <th>4</th>\n",
       "      <td>3667127</td>\n",
       "      <td>(2014 GE35)</td>\n",
       "      <td>0.255009</td>\n",
       "      <td>0.570217</td>\n",
       "      <td>42737.733765</td>\n",
       "      <td>4.627557e+07</td>\n",
       "      <td>Earth</td>\n",
       "      <td>False</td>\n",
       "      <td>20.09</td>\n",
       "      <td>True</td>\n",
       "    </tr>\n",
       "  </tbody>\n",
       "</table>\n",
       "</div>"
      ],
      "text/plain": [
       "        id                 name  est_diameter_min  est_diameter_max  \\\n",
       "0  2162635  162635 (2000 SS164)          1.198271          2.679415   \n",
       "1  2277475    277475 (2005 WK4)          0.265800          0.594347   \n",
       "2  2512244   512244 (2015 YE18)          0.722030          1.614507   \n",
       "3  3596030          (2012 BV13)          0.096506          0.215794   \n",
       "4  3667127          (2014 GE35)          0.255009          0.570217   \n",
       "\n",
       "   relative_velocity  miss_distance orbiting_body  sentry_object  \\\n",
       "0       13569.249224   5.483974e+07         Earth          False   \n",
       "1       73588.726663   6.143813e+07         Earth          False   \n",
       "2      114258.692129   4.979872e+07         Earth          False   \n",
       "3       24764.303138   2.543497e+07         Earth          False   \n",
       "4       42737.733765   4.627557e+07         Earth          False   \n",
       "\n",
       "   absolute_magnitude  hazardous  \n",
       "0               16.73      False  \n",
       "1               20.00       True  \n",
       "2               17.83      False  \n",
       "3               22.20      False  \n",
       "4               20.09       True  "
      ]
     },
     "execution_count": 4,
     "metadata": {},
     "output_type": "execute_result"
    }
   ],
   "source": [
    "# First five rows of the data\n",
    "df.head()"
   ]
  },
  {
   "cell_type": "code",
   "execution_count": 5,
   "id": "791fc817",
   "metadata": {},
   "outputs": [
    {
     "name": "stdout",
     "output_type": "stream",
     "text": [
      "<class 'pandas.core.frame.DataFrame'>\n",
      "RangeIndex: 90836 entries, 0 to 90835\n",
      "Data columns (total 10 columns):\n",
      " #   Column              Non-Null Count  Dtype  \n",
      "---  ------              --------------  -----  \n",
      " 0   id                  90836 non-null  int64  \n",
      " 1   name                90836 non-null  object \n",
      " 2   est_diameter_min    90836 non-null  float64\n",
      " 3   est_diameter_max    90836 non-null  float64\n",
      " 4   relative_velocity   90836 non-null  float64\n",
      " 5   miss_distance       90836 non-null  float64\n",
      " 6   orbiting_body       90836 non-null  object \n",
      " 7   sentry_object       90836 non-null  bool   \n",
      " 8   absolute_magnitude  90836 non-null  float64\n",
      " 9   hazardous           90836 non-null  bool   \n",
      "dtypes: bool(2), float64(5), int64(1), object(2)\n",
      "memory usage: 5.7+ MB\n"
     ]
    }
   ],
   "source": [
    "# info of the data\n",
    "df.info()"
   ]
  },
  {
   "cell_type": "code",
   "execution_count": 6,
   "id": "2d008b72",
   "metadata": {},
   "outputs": [
    {
     "data": {
      "text/html": [
       "<div>\n",
       "<style scoped>\n",
       "    .dataframe tbody tr th:only-of-type {\n",
       "        vertical-align: middle;\n",
       "    }\n",
       "\n",
       "    .dataframe tbody tr th {\n",
       "        vertical-align: top;\n",
       "    }\n",
       "\n",
       "    .dataframe thead th {\n",
       "        text-align: right;\n",
       "    }\n",
       "</style>\n",
       "<table border=\"1\" class=\"dataframe\">\n",
       "  <thead>\n",
       "    <tr style=\"text-align: right;\">\n",
       "      <th></th>\n",
       "      <th>count</th>\n",
       "      <th>mean</th>\n",
       "      <th>std</th>\n",
       "      <th>min</th>\n",
       "      <th>25%</th>\n",
       "      <th>50%</th>\n",
       "      <th>75%</th>\n",
       "      <th>max</th>\n",
       "    </tr>\n",
       "  </thead>\n",
       "  <tbody>\n",
       "    <tr>\n",
       "      <th>id</th>\n",
       "      <td>90836.0</td>\n",
       "      <td>1.438288e+07</td>\n",
       "      <td>2.087202e+07</td>\n",
       "      <td>2.000433e+06</td>\n",
       "      <td>3.448110e+06</td>\n",
       "      <td>3.748362e+06</td>\n",
       "      <td>3.884023e+06</td>\n",
       "      <td>5.427591e+07</td>\n",
       "    </tr>\n",
       "    <tr>\n",
       "      <th>est_diameter_min</th>\n",
       "      <td>90836.0</td>\n",
       "      <td>1.274321e-01</td>\n",
       "      <td>2.985112e-01</td>\n",
       "      <td>6.089126e-04</td>\n",
       "      <td>1.925551e-02</td>\n",
       "      <td>4.836765e-02</td>\n",
       "      <td>1.434019e-01</td>\n",
       "      <td>3.789265e+01</td>\n",
       "    </tr>\n",
       "    <tr>\n",
       "      <th>est_diameter_max</th>\n",
       "      <td>90836.0</td>\n",
       "      <td>2.849469e-01</td>\n",
       "      <td>6.674914e-01</td>\n",
       "      <td>1.361570e-03</td>\n",
       "      <td>4.305662e-02</td>\n",
       "      <td>1.081534e-01</td>\n",
       "      <td>3.206564e-01</td>\n",
       "      <td>8.473054e+01</td>\n",
       "    </tr>\n",
       "    <tr>\n",
       "      <th>relative_velocity</th>\n",
       "      <td>90836.0</td>\n",
       "      <td>4.806692e+04</td>\n",
       "      <td>2.529330e+04</td>\n",
       "      <td>2.033464e+02</td>\n",
       "      <td>2.861902e+04</td>\n",
       "      <td>4.419012e+04</td>\n",
       "      <td>6.292360e+04</td>\n",
       "      <td>2.369901e+05</td>\n",
       "    </tr>\n",
       "    <tr>\n",
       "      <th>miss_distance</th>\n",
       "      <td>90836.0</td>\n",
       "      <td>3.706655e+07</td>\n",
       "      <td>2.235204e+07</td>\n",
       "      <td>6.745533e+03</td>\n",
       "      <td>1.721082e+07</td>\n",
       "      <td>3.784658e+07</td>\n",
       "      <td>5.654900e+07</td>\n",
       "      <td>7.479865e+07</td>\n",
       "    </tr>\n",
       "    <tr>\n",
       "      <th>absolute_magnitude</th>\n",
       "      <td>90836.0</td>\n",
       "      <td>2.352710e+01</td>\n",
       "      <td>2.894086e+00</td>\n",
       "      <td>9.230000e+00</td>\n",
       "      <td>2.134000e+01</td>\n",
       "      <td>2.370000e+01</td>\n",
       "      <td>2.570000e+01</td>\n",
       "      <td>3.320000e+01</td>\n",
       "    </tr>\n",
       "  </tbody>\n",
       "</table>\n",
       "</div>"
      ],
      "text/plain": [
       "                      count          mean           std           min  \\\n",
       "id                  90836.0  1.438288e+07  2.087202e+07  2.000433e+06   \n",
       "est_diameter_min    90836.0  1.274321e-01  2.985112e-01  6.089126e-04   \n",
       "est_diameter_max    90836.0  2.849469e-01  6.674914e-01  1.361570e-03   \n",
       "relative_velocity   90836.0  4.806692e+04  2.529330e+04  2.033464e+02   \n",
       "miss_distance       90836.0  3.706655e+07  2.235204e+07  6.745533e+03   \n",
       "absolute_magnitude  90836.0  2.352710e+01  2.894086e+00  9.230000e+00   \n",
       "\n",
       "                             25%           50%           75%           max  \n",
       "id                  3.448110e+06  3.748362e+06  3.884023e+06  5.427591e+07  \n",
       "est_diameter_min    1.925551e-02  4.836765e-02  1.434019e-01  3.789265e+01  \n",
       "est_diameter_max    4.305662e-02  1.081534e-01  3.206564e-01  8.473054e+01  \n",
       "relative_velocity   2.861902e+04  4.419012e+04  6.292360e+04  2.369901e+05  \n",
       "miss_distance       1.721082e+07  3.784658e+07  5.654900e+07  7.479865e+07  \n",
       "absolute_magnitude  2.134000e+01  2.370000e+01  2.570000e+01  3.320000e+01  "
      ]
     },
     "execution_count": 6,
     "metadata": {},
     "output_type": "execute_result"
    }
   ],
   "source": [
    "# Summary statistics\n",
    "df.describe().T"
   ]
  },
  {
   "cell_type": "code",
   "execution_count": 7,
   "id": "0f85ff0a",
   "metadata": {},
   "outputs": [
    {
     "data": {
      "text/html": [
       "<div>\n",
       "<style scoped>\n",
       "    .dataframe tbody tr th:only-of-type {\n",
       "        vertical-align: middle;\n",
       "    }\n",
       "\n",
       "    .dataframe tbody tr th {\n",
       "        vertical-align: top;\n",
       "    }\n",
       "\n",
       "    .dataframe thead th {\n",
       "        text-align: right;\n",
       "    }\n",
       "</style>\n",
       "<table border=\"1\" class=\"dataframe\">\n",
       "  <thead>\n",
       "    <tr style=\"text-align: right;\">\n",
       "      <th></th>\n",
       "      <th>count</th>\n",
       "      <th>unique</th>\n",
       "      <th>top</th>\n",
       "      <th>freq</th>\n",
       "    </tr>\n",
       "  </thead>\n",
       "  <tbody>\n",
       "    <tr>\n",
       "      <th>name</th>\n",
       "      <td>90836</td>\n",
       "      <td>27423</td>\n",
       "      <td>469219 Kamo`oalewa (2016 HO3)</td>\n",
       "      <td>43</td>\n",
       "    </tr>\n",
       "    <tr>\n",
       "      <th>orbiting_body</th>\n",
       "      <td>90836</td>\n",
       "      <td>1</td>\n",
       "      <td>Earth</td>\n",
       "      <td>90836</td>\n",
       "    </tr>\n",
       "  </tbody>\n",
       "</table>\n",
       "</div>"
      ],
      "text/plain": [
       "               count unique                            top   freq\n",
       "name           90836  27423  469219 Kamo`oalewa (2016 HO3)     43\n",
       "orbiting_body  90836      1                          Earth  90836"
      ]
     },
     "execution_count": 7,
     "metadata": {},
     "output_type": "execute_result"
    }
   ],
   "source": [
    "# Categorical summary statitics\n",
    "df.describe(include=object).T"
   ]
  },
  {
   "cell_type": "code",
   "execution_count": 8,
   "id": "9dc87344",
   "metadata": {},
   "outputs": [
    {
     "data": {
      "text/plain": [
       "False    90836\n",
       "dtype: int64"
      ]
     },
     "execution_count": 8,
     "metadata": {},
     "output_type": "execute_result"
    }
   ],
   "source": [
    "# Checking for duplicate rows\n",
    "df.duplicated().value_counts()\n",
    "# Data has no duplicate rows"
   ]
  },
  {
   "cell_type": "code",
   "execution_count": 9,
   "id": "57575865",
   "metadata": {},
   "outputs": [
    {
     "data": {
      "text/plain": [
       "id                    0\n",
       "name                  0\n",
       "est_diameter_min      0\n",
       "est_diameter_max      0\n",
       "relative_velocity     0\n",
       "miss_distance         0\n",
       "orbiting_body         0\n",
       "sentry_object         0\n",
       "absolute_magnitude    0\n",
       "hazardous             0\n",
       "dtype: int64"
      ]
     },
     "execution_count": 9,
     "metadata": {},
     "output_type": "execute_result"
    }
   ],
   "source": [
    "# Checking for missing values\n",
    "df.isnull().sum()\n",
    "# Data has no missing values"
   ]
  },
  {
   "cell_type": "code",
   "execution_count": 10,
   "id": "be8e04fd",
   "metadata": {},
   "outputs": [
    {
     "data": {
      "text/html": [
       "<div>\n",
       "<style scoped>\n",
       "    .dataframe tbody tr th:only-of-type {\n",
       "        vertical-align: middle;\n",
       "    }\n",
       "\n",
       "    .dataframe tbody tr th {\n",
       "        vertical-align: top;\n",
       "    }\n",
       "\n",
       "    .dataframe thead th {\n",
       "        text-align: right;\n",
       "    }\n",
       "</style>\n",
       "<table border=\"1\" class=\"dataframe\">\n",
       "  <thead>\n",
       "    <tr style=\"text-align: right;\">\n",
       "      <th></th>\n",
       "      <th>id</th>\n",
       "      <th>est_diameter_min</th>\n",
       "      <th>est_diameter_max</th>\n",
       "      <th>relative_velocity</th>\n",
       "      <th>miss_distance</th>\n",
       "      <th>sentry_object</th>\n",
       "      <th>absolute_magnitude</th>\n",
       "      <th>hazardous</th>\n",
       "    </tr>\n",
       "  </thead>\n",
       "  <tbody>\n",
       "    <tr>\n",
       "      <th>id</th>\n",
       "      <td>1.000000</td>\n",
       "      <td>-0.148322</td>\n",
       "      <td>-0.148322</td>\n",
       "      <td>-0.059176</td>\n",
       "      <td>-0.056510</td>\n",
       "      <td>NaN</td>\n",
       "      <td>0.277258</td>\n",
       "      <td>-0.123443</td>\n",
       "    </tr>\n",
       "    <tr>\n",
       "      <th>est_diameter_min</th>\n",
       "      <td>-0.148322</td>\n",
       "      <td>1.000000</td>\n",
       "      <td>1.000000</td>\n",
       "      <td>0.221553</td>\n",
       "      <td>0.142241</td>\n",
       "      <td>NaN</td>\n",
       "      <td>-0.560188</td>\n",
       "      <td>0.183363</td>\n",
       "    </tr>\n",
       "    <tr>\n",
       "      <th>est_diameter_max</th>\n",
       "      <td>-0.148322</td>\n",
       "      <td>1.000000</td>\n",
       "      <td>1.000000</td>\n",
       "      <td>0.221553</td>\n",
       "      <td>0.142241</td>\n",
       "      <td>NaN</td>\n",
       "      <td>-0.560188</td>\n",
       "      <td>0.183363</td>\n",
       "    </tr>\n",
       "    <tr>\n",
       "      <th>relative_velocity</th>\n",
       "      <td>-0.059176</td>\n",
       "      <td>0.221553</td>\n",
       "      <td>0.221553</td>\n",
       "      <td>1.000000</td>\n",
       "      <td>0.327169</td>\n",
       "      <td>NaN</td>\n",
       "      <td>-0.353863</td>\n",
       "      <td>0.191185</td>\n",
       "    </tr>\n",
       "    <tr>\n",
       "      <th>miss_distance</th>\n",
       "      <td>-0.056510</td>\n",
       "      <td>0.142241</td>\n",
       "      <td>0.142241</td>\n",
       "      <td>0.327169</td>\n",
       "      <td>1.000000</td>\n",
       "      <td>NaN</td>\n",
       "      <td>-0.264168</td>\n",
       "      <td>0.042302</td>\n",
       "    </tr>\n",
       "    <tr>\n",
       "      <th>sentry_object</th>\n",
       "      <td>NaN</td>\n",
       "      <td>NaN</td>\n",
       "      <td>NaN</td>\n",
       "      <td>NaN</td>\n",
       "      <td>NaN</td>\n",
       "      <td>NaN</td>\n",
       "      <td>NaN</td>\n",
       "      <td>NaN</td>\n",
       "    </tr>\n",
       "    <tr>\n",
       "      <th>absolute_magnitude</th>\n",
       "      <td>0.277258</td>\n",
       "      <td>-0.560188</td>\n",
       "      <td>-0.560188</td>\n",
       "      <td>-0.353863</td>\n",
       "      <td>-0.264168</td>\n",
       "      <td>NaN</td>\n",
       "      <td>1.000000</td>\n",
       "      <td>-0.365267</td>\n",
       "    </tr>\n",
       "    <tr>\n",
       "      <th>hazardous</th>\n",
       "      <td>-0.123443</td>\n",
       "      <td>0.183363</td>\n",
       "      <td>0.183363</td>\n",
       "      <td>0.191185</td>\n",
       "      <td>0.042302</td>\n",
       "      <td>NaN</td>\n",
       "      <td>-0.365267</td>\n",
       "      <td>1.000000</td>\n",
       "    </tr>\n",
       "  </tbody>\n",
       "</table>\n",
       "</div>"
      ],
      "text/plain": [
       "                          id  est_diameter_min  est_diameter_max  \\\n",
       "id                  1.000000         -0.148322         -0.148322   \n",
       "est_diameter_min   -0.148322          1.000000          1.000000   \n",
       "est_diameter_max   -0.148322          1.000000          1.000000   \n",
       "relative_velocity  -0.059176          0.221553          0.221553   \n",
       "miss_distance      -0.056510          0.142241          0.142241   \n",
       "sentry_object            NaN               NaN               NaN   \n",
       "absolute_magnitude  0.277258         -0.560188         -0.560188   \n",
       "hazardous          -0.123443          0.183363          0.183363   \n",
       "\n",
       "                    relative_velocity  miss_distance  sentry_object  \\\n",
       "id                          -0.059176      -0.056510            NaN   \n",
       "est_diameter_min             0.221553       0.142241            NaN   \n",
       "est_diameter_max             0.221553       0.142241            NaN   \n",
       "relative_velocity            1.000000       0.327169            NaN   \n",
       "miss_distance                0.327169       1.000000            NaN   \n",
       "sentry_object                     NaN            NaN            NaN   \n",
       "absolute_magnitude          -0.353863      -0.264168            NaN   \n",
       "hazardous                    0.191185       0.042302            NaN   \n",
       "\n",
       "                    absolute_magnitude  hazardous  \n",
       "id                            0.277258  -0.123443  \n",
       "est_diameter_min             -0.560188   0.183363  \n",
       "est_diameter_max             -0.560188   0.183363  \n",
       "relative_velocity            -0.353863   0.191185  \n",
       "miss_distance                -0.264168   0.042302  \n",
       "sentry_object                      NaN        NaN  \n",
       "absolute_magnitude            1.000000  -0.365267  \n",
       "hazardous                    -0.365267   1.000000  "
      ]
     },
     "execution_count": 10,
     "metadata": {},
     "output_type": "execute_result"
    }
   ],
   "source": [
    "# Corelation Matrix\n",
    "df.corr()"
   ]
  },
  {
   "cell_type": "code",
   "execution_count": 11,
   "id": "2b147e73",
   "metadata": {},
   "outputs": [
    {
     "data": {
      "image/png": "[encoded data removed]",
      "text/plain": [
       "<Figure size 432x288 with 2 Axes>"
      ]
     },
     "metadata": {
      "needs_background": "light"
     },
     "output_type": "display_data"
    }
   ],
   "source": [
    "# Vizualization of the correlation matrix\n",
    "sns.heatmap(df.corr(),vmin=-1,vmax=1,cmap='YlGnBu')\n",
    "plt.show()"
   ]
  },
  {
   "cell_type": "code",
   "execution_count": 12,
   "id": "26ba1623",
   "metadata": {},
   "outputs": [],
   "source": [
    "# Dropping some redundant column:\n",
    "# We will drop the orbiting_body and sentry_object columns because these 2 only have one kind of values namely,Earth and False.\n",
    "# We would also be dropping the id column as well\n",
    "df.drop(columns=['orbiting_body','sentry_object','name','id'],inplace=True)"
   ]
  },
  {
   "cell_type": "markdown",
   "id": "5d409946",
   "metadata": {},
   "source": [
    "# Exploratory Data Analysis"
   ]
  },
  {
   "cell_type": "code",
   "execution_count": 13,
   "id": "98fe35b3",
   "metadata": {},
   "outputs": [
    {
     "data": {
      "image/png": "[encoded data removed]",
      "text/plain": [
       "<Figure size 432x288 with 1 Axes>"
      ]
     },
     "metadata": {
      "needs_background": "light"
     },
     "output_type": "display_data"
    }
   ],
   "source": [
    "## Column: est_diameter_min\n",
    "sns.distplot(df.est_diameter_min,color='black')\n",
    "plt.show()"
   ]
  },
  {
   "cell_type": "markdown",
   "id": "60670b00",
   "metadata": {},
   "source": [
    "#### We see that most of the asteroids are less than 2.5 kms in estimated minimum diameter. There are records of higher diameter asteroids as well(20+ km). These could be more hazardous than the smaller ones. We would check this further"
   ]
  },
  {
   "cell_type": "code",
   "execution_count": 14,
   "id": "985b081b",
   "metadata": {},
   "outputs": [
    {
     "data": {
      "image/png": "[encoded data removed]",
      "text/plain": [
       "<Figure size 432x288 with 1 Axes>"
      ]
     },
     "metadata": {
      "needs_background": "light"
     },
     "output_type": "display_data"
    }
   ],
   "source": [
    "sns.boxenplot(x='hazardous',y='est_diameter_min',data=df)\n",
    "plt.show()"
   ]
  },
  {
   "cell_type": "markdown",
   "id": "ca09a911",
   "metadata": {},
   "source": [
    "#### We see that non hazardous objects have the highest minimum diameter but hazardous objects on average have a higher minimum diameter"
   ]
  },
  {
   "cell_type": "markdown",
   "id": "0beacd80",
   "metadata": {},
   "source": [
    "## Column: est_diameter_max"
   ]
  },
  {
   "cell_type": "code",
   "execution_count": 15,
   "id": "0360372d",
   "metadata": {},
   "outputs": [
    {
     "data": {
      "image/png": "[encoded data removed]",
      "text/plain": [
       "<Figure size 432x288 with 1 Axes>"
      ]
     },
     "metadata": {
      "needs_background": "light"
     },
     "output_type": "display_data"
    }
   ],
   "source": [
    "sns.distplot(df.est_diameter_max,color='black')\n",
    "plt.show()"
   ]
  },
  {
   "cell_type": "markdown",
   "id": "2f88077b",
   "metadata": {},
   "source": [
    "#### Similar to our observation on est_diameter_min we see that most objects have estimated max diameter less than 2.5 kms"
   ]
  },
  {
   "cell_type": "code",
   "execution_count": 16,
   "id": "10fcf3b2",
   "metadata": {},
   "outputs": [
    {
     "data": {
      "image/png": "[encoded data removed]",
      "text/plain": [
       "<Figure size 432x288 with 1 Axes>"
      ]
     },
     "metadata": {
      "needs_background": "light"
     },
     "output_type": "display_data"
    }
   ],
   "source": [
    "sns.boxenplot(x='hazardous',y='est_diameter_max',data=df)\n",
    "plt.show()"
   ]
  },
  {
   "cell_type": "markdown",
   "id": "c5360b0e",
   "metadata": {},
   "source": [
    "#### We see that non hazardous objects have the highest maximum diameter but hazardous objects on average have a higher maximum diameter"
   ]
  },
  {
   "cell_type": "markdown",
   "id": "f7e092d6",
   "metadata": {},
   "source": [
    "## Column: relative_velocity"
   ]
  },
  {
   "cell_type": "code",
   "execution_count": 17,
   "id": "109eb06f",
   "metadata": {},
   "outputs": [
    {
     "data": {
      "image/png": "[encoded data removed]",
      "text/plain": [
       "<Figure size 432x288 with 1 Axes>"
      ]
     },
     "metadata": {
      "needs_background": "light"
     },
     "output_type": "display_data"
    }
   ],
   "source": [
    "sns.distplot(df.relative_velocity)\n",
    "plt.show()"
   ]
  },
  {
   "cell_type": "markdown",
   "id": "3a444a91",
   "metadata": {},
   "source": [
    "#### We see that most objects have a relative velocity between 0 and 150000 km/hr"
   ]
  },
  {
   "cell_type": "code",
   "execution_count": 18,
   "id": "f50557b4",
   "metadata": {},
   "outputs": [
    {
     "data": {
      "image/png": "[encoded data removed]",
      "text/plain": [
       "<Figure size 432x288 with 1 Axes>"
      ]
     },
     "metadata": {
      "needs_background": "light"
     },
     "output_type": "display_data"
    }
   ],
   "source": [
    "sns.boxenplot(x='hazardous',y='relative_velocity',data=df)\n",
    "plt.show()"
   ]
  },
  {
   "cell_type": "markdown",
   "id": "1d0ae503",
   "metadata": {},
   "source": [
    "#### We see that the maximum relative velocity of non-hazardous objects in higher thn hazardous objects, but on average the relative velocity of hazardous objects is higher"
   ]
  },
  {
   "cell_type": "markdown",
   "id": "2e3c2ebb",
   "metadata": {},
   "source": [
    "## Column: miss_distance"
   ]
  },
  {
   "cell_type": "code",
   "execution_count": 19,
   "id": "45c39aa8",
   "metadata": {},
   "outputs": [
    {
     "data": {
      "image/png": "[encoded data removed]",
      "text/plain": [
       "<Figure size 432x288 with 1 Axes>"
      ]
     },
     "metadata": {
      "needs_background": "light"
     },
     "output_type": "display_data"
    }
   ],
   "source": [
    "sns.distplot(df.miss_distance)\n",
    "plt.show()"
   ]
  },
  {
   "cell_type": "markdown",
   "id": "4b88947f",
   "metadata": {},
   "source": [
    "#### We see that most objects miss Earth by a distance between 0.1x10^7 and 7.8x10^7"
   ]
  },
  {
   "cell_type": "code",
   "execution_count": 20,
   "id": "35984f08",
   "metadata": {},
   "outputs": [
    {
     "data": {
      "image/png": "[encoded data removed]",
      "text/plain": [
       "<Figure size 432x288 with 1 Axes>"
      ]
     },
     "metadata": {
      "needs_background": "light"
     },
     "output_type": "display_data"
    }
   ],
   "source": [
    "sns.boxplot(x='hazardous',y='miss_distance',data=df)\n",
    "plt.show()"
   ]
  },
  {
   "cell_type": "markdown",
   "id": "9168b69a",
   "metadata": {},
   "source": [
    "#### We see that the average miss distance of hazardous objects is slightly higher than miss distance of non-hazardous objects"
   ]
  },
  {
   "cell_type": "markdown",
   "id": "cb43cc6c",
   "metadata": {},
   "source": [
    "## Column: absolute_magnitude"
   ]
  },
  {
   "cell_type": "code",
   "execution_count": 21,
   "id": "01aebfd2",
   "metadata": {},
   "outputs": [
    {
     "data": {
      "image/png": "[encoded data removed]",
      "text/plain": [
       "<Figure size 432x288 with 1 Axes>"
      ]
     },
     "metadata": {
      "needs_background": "light"
     },
     "output_type": "display_data"
    }
   ],
   "source": [
    "sns.distplot(df.absolute_magnitude)\n",
    "plt.show()"
   ]
  },
  {
   "cell_type": "markdown",
   "id": "3a33943b",
   "metadata": {},
   "source": [
    "#### We see that the absolute magnitude(intrinsic luminosity) of most objects is between 15 and 30 units"
   ]
  },
  {
   "cell_type": "code",
   "execution_count": 22,
   "id": "6bd5f829",
   "metadata": {},
   "outputs": [
    {
     "data": {
      "image/png": "[encoded data removed]",
      "text/plain": [
       "<Figure size 432x288 with 1 Axes>"
      ]
     },
     "metadata": {
      "needs_background": "light"
     },
     "output_type": "display_data"
    }
   ],
   "source": [
    "sns.boxplot(x='hazardous',y='absolute_magnitude',data=df)\n",
    "plt.show()"
   ]
  },
  {
   "cell_type": "markdown",
   "id": "387c9da3",
   "metadata": {},
   "source": [
    "#### We see that non-hazardous objects have a much higher absolute magnitude compared to hazardous objects"
   ]
  },
  {
   "cell_type": "markdown",
   "id": "ca683da1",
   "metadata": {},
   "source": [
    "## Column: hazardous"
   ]
  },
  {
   "cell_type": "code",
   "execution_count": 23,
   "id": "8015406b",
   "metadata": {},
   "outputs": [
    {
     "data": {
      "image/png": "[encoded data removed]",
      "text/plain": [
       "<Figure size 432x288 with 1 Axes>"
      ]
     },
     "metadata": {
      "needs_background": "light"
     },
     "output_type": "display_data"
    }
   ],
   "source": [
    "sns.countplot(x='hazardous',data=df)\n",
    "plt.show()"
   ]
  },
  {
   "cell_type": "markdown",
   "id": "3439af1b",
   "metadata": {},
   "source": [
    "#### We see that the number of hazardous objects is extremely small compared to our non-hazardous objects. This shows that our target variable is highly imbalanced."
   ]
  },
  {
   "cell_type": "markdown",
   "id": "dfd5b3f6",
   "metadata": {},
   "source": [
    "### Conclusion from the Exploratory Data Analysis\n",
    "* We should be focused more towards larger asteriods as they seem to be more hazardous than smaller asteroids.\n",
    "* We see that most objects have a relative velocity between 0 and 150000 km/h. Also Hazardous objects seems to be having a higher relative velocity on average.\n",
    "* We see that most objects miss Earth by a distance between 0.1x10^7 and 7.8x10^7 units. Also, Hazarous objects seem to be missing earth by a higher distance on average\n",
    "* We see that the absolute magnitude(intrinsic luminosity) of most objects is between 15 and 30 units. Also the intrinsic luminosity of hazardous objects is much lower than non-hazardous objects. This entails that it is much harder to detect hazardous objects than non-hazardous objects\n",
    "* By the current repository of data, hazardous objects seem to be much less in number compared to non-hazardous objects. This could be followed from the previous point due to hazardous objects being difficult to detect with a much a lower intrisic luminosity."
   ]
  },
  {
   "cell_type": "markdown",
   "id": "940748e5",
   "metadata": {},
   "source": [
    "# Feature Engineering and Feature Selection"
   ]
  },
  {
   "cell_type": "markdown",
   "id": "176e601c",
   "metadata": {},
   "source": [
    "## Feature Engineering"
   ]
  },
  {
   "cell_type": "code",
   "execution_count": 24,
   "id": "e41a23a8",
   "metadata": {},
   "outputs": [],
   "source": [
    "# Before proceeding to our feature selection we would do some feature engineering if possible"
   ]
  },
  {
   "cell_type": "code",
   "execution_count": 25,
   "id": "e8ce7799",
   "metadata": {},
   "outputs": [],
   "source": [
    "# Taking the average of est_diameter_min and est_diameter_max to make a new feature est_diameter_avg\n",
    "df['est_diameter_avg']=(df.est_diameter_max+df.est_diameter_min)/2"
   ]
  },
  {
   "cell_type": "markdown",
   "id": "69a16c30",
   "metadata": {},
   "source": [
    "## Feature Selection"
   ]
  },
  {
   "cell_type": "code",
   "execution_count": 26,
   "id": "f08d4a1a",
   "metadata": {},
   "outputs": [
    {
     "data": {
      "text/html": [
       "<div>\n",
       "<style scoped>\n",
       "    .dataframe tbody tr th:only-of-type {\n",
       "        vertical-align: middle;\n",
       "    }\n",
       "\n",
       "    .dataframe tbody tr th {\n",
       "        vertical-align: top;\n",
       "    }\n",
       "\n",
       "    .dataframe thead th {\n",
       "        text-align: right;\n",
       "    }\n",
       "</style>\n",
       "<table border=\"1\" class=\"dataframe\">\n",
       "  <thead>\n",
       "    <tr style=\"text-align: right;\">\n",
       "      <th></th>\n",
       "      <th>Features</th>\n",
       "      <th>Pvalue</th>\n",
       "    </tr>\n",
       "  </thead>\n",
       "  <tbody>\n",
       "    <tr>\n",
       "      <th>0</th>\n",
       "      <td>est_diameter_min</td>\n",
       "      <td>0.000000e+00</td>\n",
       "    </tr>\n",
       "    <tr>\n",
       "      <th>1</th>\n",
       "      <td>est_diameter_max</td>\n",
       "      <td>0.000000e+00</td>\n",
       "    </tr>\n",
       "    <tr>\n",
       "      <th>2</th>\n",
       "      <td>relative_velocity</td>\n",
       "      <td>0.000000e+00</td>\n",
       "    </tr>\n",
       "    <tr>\n",
       "      <th>3</th>\n",
       "      <td>miss_distance</td>\n",
       "      <td>2.927203e-37</td>\n",
       "    </tr>\n",
       "    <tr>\n",
       "      <th>4</th>\n",
       "      <td>absolute_magnitude</td>\n",
       "      <td>0.000000e+00</td>\n",
       "    </tr>\n",
       "    <tr>\n",
       "      <th>5</th>\n",
       "      <td>est_diameter_avg</td>\n",
       "      <td>0.000000e+00</td>\n",
       "    </tr>\n",
       "  </tbody>\n",
       "</table>\n",
       "</div>"
      ],
      "text/plain": [
       "             Features        Pvalue\n",
       "0    est_diameter_min  0.000000e+00\n",
       "1    est_diameter_max  0.000000e+00\n",
       "2   relative_velocity  0.000000e+00\n",
       "3       miss_distance  2.927203e-37\n",
       "4  absolute_magnitude  0.000000e+00\n",
       "5    est_diameter_avg  0.000000e+00"
      ]
     },
     "execution_count": 26,
     "metadata": {},
     "output_type": "execute_result"
    }
   ],
   "source": [
    "# Since in our dataframe all our features are numerical\n",
    "# We would use 2 sample ttest to check the effect of these column on the target variable\n",
    "\n",
    "stat_df=pd.DataFrame() # Empty dataframe that would contain the features and the pvalue for the statistical test\n",
    "stat_df['Features']=df.drop(columns='hazardous').columns # Creating column for all the features\n",
    "lst=[] # Empty list to contain all the pvalues of the tests\n",
    "\n",
    "for i in df.drop(columns='hazardous').columns:\n",
    "    # Null Hypothesis: 'i' has no impact on the target variable\n",
    "    # Alternate Hypothesis: 'i' has an impact on the target variable\n",
    "    haz_sample=df.loc[df.hazardous==True,i]\n",
    "    nonhaz_sample=df.loc[df.hazardous==False,i]\n",
    "    lst.append(stats.ttest_ind(haz_sample,nonhaz_sample)[1])\n",
    "stat_df['Pvalue']=lst\n",
    "\n",
    "stat_df"
   ]
  },
  {
   "cell_type": "code",
   "execution_count": 27,
   "id": "0e4d524a",
   "metadata": {},
   "outputs": [],
   "source": [
    "# From the above test df we see that all the features have an impact on our target variable\n",
    "# So we cannot drop any of the features mentioned above"
   ]
  },
  {
   "cell_type": "markdown",
   "id": "ca8c4496",
   "metadata": {},
   "source": [
    "# Splitting the data into train and test"
   ]
  },
  {
   "cell_type": "code",
   "execution_count": 28,
   "id": "866de98a",
   "metadata": {},
   "outputs": [],
   "source": [
    "# Mapping the target variable to 1 and 0\n",
    "df.hazardous=df.hazardous.map({True:1,False:0})"
   ]
  },
  {
   "cell_type": "code",
   "execution_count": 29,
   "id": "51dcdf23",
   "metadata": {},
   "outputs": [],
   "source": [
    "# Splitting the data into x and y\n",
    "x=df.drop(columns='hazardous')\n",
    "y=df.hazardous"
   ]
  },
  {
   "cell_type": "code",
   "execution_count": 30,
   "id": "422c2676",
   "metadata": {},
   "outputs": [],
   "source": [
    "# Train test split\n",
    "x_train,x_test,y_train,y_test=train_test_split(x,y,test_size=0.20,stratify=y)"
   ]
  },
  {
   "cell_type": "code",
   "execution_count": 31,
   "id": "55779565",
   "metadata": {},
   "outputs": [
    {
     "data": {
      "text/plain": [
       "((72668, 6), (72668,), (18168, 6), (18168,))"
      ]
     },
     "execution_count": 31,
     "metadata": {},
     "output_type": "execute_result"
    }
   ],
   "source": [
    "# Shape of the train and test sets\n",
    "x_train.shape,y_train.shape,x_test.shape,y_test.shape"
   ]
  },
  {
   "cell_type": "markdown",
   "id": "b9be8c1f",
   "metadata": {},
   "source": [
    "## Creating an Evaluation Function"
   ]
  },
  {
   "cell_type": "code",
   "execution_count": 32,
   "id": "fc9f5cd1",
   "metadata": {},
   "outputs": [],
   "source": [
    "# Before proceeding to our modelling we will create a function to check th evaluation scores\n",
    "\n",
    "def evaluation(y_test,y_pred):\n",
    "    \n",
    "    print('Accuracy Score:',accuracy_score(y_test,y_pred))\n",
    "    print('f1_score:',f1_score(y_test,y_pred))\n",
    "    print('Precision:',precision_score(y_test,y_pred))\n",
    "    print('Recall:',recall_score(y_test,y_pred))\n",
    "    print('Classification report:\\n',classification_report(y_test,y_pred))\n",
    "    cm=confusion_matrix(y_test,y_pred)\n",
    "    ConfusionMatrixDisplay(cm).plot()\n",
    "    plt.title('Confusion matrix for the given prediction')\n",
    "    plt.show()\n",
    "    \n",
    "# Our evaluation fucntion is now created"
   ]
  },
  {
   "cell_type": "markdown",
   "id": "1d2b3e59",
   "metadata": {},
   "source": [
    "# Modelling"
   ]
  },
  {
   "cell_type": "code",
   "execution_count": 33,
   "id": "9bfd407d",
   "metadata": {},
   "outputs": [],
   "source": [
    "# We will first try a few basic base models first and then try tune the best model we get"
   ]
  },
  {
   "cell_type": "markdown",
   "id": "3dd70a02",
   "metadata": {},
   "source": [
    "## Logistic regression"
   ]
  },
  {
   "cell_type": "code",
   "execution_count": 34,
   "id": "20f9e111",
   "metadata": {},
   "outputs": [],
   "source": [
    "# Since Logistic Regression is a distance based algorithm we would need to scale our train and test sets\n",
    "# before procedding to our model fitting\n",
    "# For this we would use Standard scaler\n",
    "\n",
    "sc=StandardScaler()\n",
    "\n",
    "x_train_s=pd.DataFrame(sc.fit_transform(x_train),columns=x_train.columns)\n",
    "x_test_s=pd.DataFrame(sc.transform(x_test),columns=x_test.columns)\n",
    "\n",
    "# Our train and test sets are now scaled"
   ]
  },
  {
   "cell_type": "code",
   "execution_count": 35,
   "id": "3c98d5b6",
   "metadata": {},
   "outputs": [],
   "source": [
    "# We will now proceed to our modelling\n",
    "lr=LogisticRegression() # Machine instance"
   ]
  },
  {
   "cell_type": "code",
   "execution_count": 36,
   "id": "9a690b1f",
   "metadata": {},
   "outputs": [],
   "source": [
    "lr_model=lr.fit(x_train_s,y_train)\n",
    "y_pred=lr_model.predict(x_test_s)"
   ]
  },
  {
   "cell_type": "markdown",
   "id": "4688a1fd",
   "metadata": {},
   "source": [
    "#### Evaluation"
   ]
  },
  {
   "cell_type": "code",
   "execution_count": 37,
   "id": "1962f687",
   "metadata": {},
   "outputs": [
    {
     "name": "stdout",
     "output_type": "stream",
     "text": [
      "Accuracy Score: 0.8999889916336415\n",
      "f1_score: 0.12349252291365172\n",
      "Precision: 0.419672131147541\n",
      "Recall: 0.07239819004524888\n",
      "Classification report:\n",
      "               precision    recall  f1-score   support\n",
      "\n",
      "           0       0.91      0.99      0.95     16400\n",
      "           1       0.42      0.07      0.12      1768\n",
      "\n",
      "    accuracy                           0.90     18168\n",
      "   macro avg       0.66      0.53      0.54     18168\n",
      "weighted avg       0.86      0.90      0.87     18168\n",
      "\n"
     ]
    },
    {
     "data": {
      "image/png": "[encoded data removed]",
      "text/plain": [
       "<Figure size 432x288 with 2 Axes>"
      ]
     },
     "metadata": {
      "needs_background": "light"
     },
     "output_type": "display_data"
    }
   ],
   "source": [
    "# We will see a few metrics and check how our model is performing\n",
    "evaluation(y_test,y_pred)"
   ]
  },
  {
   "cell_type": "markdown",
   "id": "9501a676",
   "metadata": {},
   "source": [
    "#### We see that although the accuracy is pretty good with 90% score, we get a very low recall score. As a result there are a large number of false negatives in the prediction. We would need to improve our recall score in order to get very few number of false negatives. Hereon we would be mostly focusing on recall to be improved."
   ]
  },
  {
   "cell_type": "markdown",
   "id": "8d2a76bb",
   "metadata": {},
   "source": [
    "## Decision Tree"
   ]
  },
  {
   "cell_type": "code",
   "execution_count": 38,
   "id": "a1f43762",
   "metadata": {},
   "outputs": [],
   "source": [
    "dtree=DecisionTreeClassifier()"
   ]
  },
  {
   "cell_type": "code",
   "execution_count": 39,
   "id": "29ab44e3",
   "metadata": {},
   "outputs": [],
   "source": [
    "# Since Decision trees are tree base models we don't need to fit the model on a scaled data so we would pass the initial spilit\n",
    "# train and test sets\n",
    "dt_model=dtree.fit(x_train,y_train)\n",
    "y_pred=dt_model.predict(x_test)"
   ]
  },
  {
   "cell_type": "code",
   "execution_count": 40,
   "id": "6afdaa5c",
   "metadata": {},
   "outputs": [
    {
     "name": "stdout",
     "output_type": "stream",
     "text": [
      "Accuracy Score: 0.8958058124174373\n",
      "f1_score: 0.463283243549759\n",
      "Precision: 0.46446844798180786\n",
      "Recall: 0.46210407239819007\n",
      "Classification report:\n",
      "               precision    recall  f1-score   support\n",
      "\n",
      "           0       0.94      0.94      0.94     16400\n",
      "           1       0.46      0.46      0.46      1768\n",
      "\n",
      "    accuracy                           0.90     18168\n",
      "   macro avg       0.70      0.70      0.70     18168\n",
      "weighted avg       0.90      0.90      0.90     18168\n",
      "\n"
     ]
    },
    {
     "data": {
      "image/png": "[encoded data removed]",
      "text/plain": [
       "<Figure size 432x288 with 2 Axes>"
      ]
     },
     "metadata": {
      "needs_background": "light"
     },
     "output_type": "display_data"
    }
   ],
   "source": [
    "# Evalutaion of the model\n",
    "evaluation(y_test,y_pred)"
   ]
  },
  {
   "cell_type": "markdown",
   "id": "52cf43dd",
   "metadata": {},
   "source": [
    "#### We see that there is a considerable improvement in our f1 score and recall score compared to a linear based model. So we would go ahead with tree based models further down the line."
   ]
  },
  {
   "cell_type": "markdown",
   "id": "8fe18e9c",
   "metadata": {},
   "source": [
    "## Random Forrest"
   ]
  },
  {
   "cell_type": "code",
   "execution_count": 41,
   "id": "7c105267",
   "metadata": {},
   "outputs": [],
   "source": [
    "rf=RandomForestClassifier()"
   ]
  },
  {
   "cell_type": "code",
   "execution_count": 42,
   "id": "1aa1b59e",
   "metadata": {},
   "outputs": [],
   "source": [
    "# Fitting and predicting\n",
    "y_pred=rf.fit(x_train,y_train).predict(x_test)"
   ]
  },
  {
   "cell_type": "code",
   "execution_count": 43,
   "id": "6ebb2850",
   "metadata": {},
   "outputs": [
    {
     "name": "stdout",
     "output_type": "stream",
     "text": [
      "Accuracy Score: 0.9193637164244826\n",
      "f1_score: 0.5115038346115373\n",
      "Precision: 0.6230706742485784\n",
      "Recall: 0.4338235294117647\n",
      "Classification report:\n",
      "               precision    recall  f1-score   support\n",
      "\n",
      "           0       0.94      0.97      0.96     16400\n",
      "           1       0.62      0.43      0.51      1768\n",
      "\n",
      "    accuracy                           0.92     18168\n",
      "   macro avg       0.78      0.70      0.73     18168\n",
      "weighted avg       0.91      0.92      0.91     18168\n",
      "\n"
     ]
    },
    {
     "data": {
      "image/png": "[encoded data removed]",
      "text/plain": [
       "<Figure size 432x288 with 2 Axes>"
      ]
     },
     "metadata": {
      "needs_background": "light"
     },
     "output_type": "display_data"
    }
   ],
   "source": [
    "# evaluation of the model\n",
    "evaluation(y_test,y_pred)"
   ]
  },
  {
   "cell_type": "markdown",
   "id": "bfc74135",
   "metadata": {},
   "source": [
    "#### We see that random forrest has a similar recall to decision tree but a better f1 score we could try boosting techniques further down the line"
   ]
  },
  {
   "cell_type": "markdown",
   "id": "ddfb5df6",
   "metadata": {},
   "source": [
    "## Gradient Boosting"
   ]
  },
  {
   "cell_type": "code",
   "execution_count": 44,
   "id": "1532e3b7",
   "metadata": {},
   "outputs": [],
   "source": [
    "# We will now try some boosting techinques starting with gradient boosting\n",
    "gb=GradientBoostingClassifier()"
   ]
  },
  {
   "cell_type": "code",
   "execution_count": 45,
   "id": "e310379d",
   "metadata": {},
   "outputs": [],
   "source": [
    "# Fitting the model\n",
    "gb_model=gb.fit(x_train,y_train)"
   ]
  },
  {
   "cell_type": "code",
   "execution_count": 46,
   "id": "7d505a2d",
   "metadata": {},
   "outputs": [],
   "source": [
    "# making predictions\n",
    "y_pred=gb_model.predict(x_test)"
   ]
  },
  {
   "cell_type": "code",
   "execution_count": 47,
   "id": "f1cef2fb",
   "metadata": {},
   "outputs": [
    {
     "name": "stdout",
     "output_type": "stream",
     "text": [
      "Accuracy Score: 0.9124834874504624\n",
      "f1_score: 0.23777564717162034\n",
      "Precision: 0.779874213836478\n",
      "Recall: 0.14027149321266968\n",
      "Classification report:\n",
      "               precision    recall  f1-score   support\n",
      "\n",
      "           0       0.91      1.00      0.95     16400\n",
      "           1       0.78      0.14      0.24      1768\n",
      "\n",
      "    accuracy                           0.91     18168\n",
      "   macro avg       0.85      0.57      0.60     18168\n",
      "weighted avg       0.90      0.91      0.88     18168\n",
      "\n"
     ]
    },
    {
     "data": {
      "image/png": "[encoded data removed]",
      "text/plain": [
       "<Figure size 432x288 with 2 Axes>"
      ]
     },
     "metadata": {
      "needs_background": "light"
     },
     "output_type": "display_data"
    }
   ],
   "source": [
    "# evaluation of the model\n",
    "evaluation(y_test,y_pred)"
   ]
  },
  {
   "cell_type": "markdown",
   "id": "5eb8b808",
   "metadata": {},
   "source": [
    "#### We observe that in gradient boosting the recall score has drastically decreased from our random forrest model. This could mean we may have to proceed with other tree based models as well"
   ]
  },
  {
   "cell_type": "markdown",
   "id": "82a740e8",
   "metadata": {},
   "source": [
    "## XGBoost"
   ]
  },
  {
   "cell_type": "code",
   "execution_count": 48,
   "id": "b1711a88",
   "metadata": {},
   "outputs": [],
   "source": [
    "# We will see whether xgboost performs any better\n",
    "xgb=XGBClassifier()"
   ]
  },
  {
   "cell_type": "code",
   "execution_count": 49,
   "id": "e812112e",
   "metadata": {},
   "outputs": [],
   "source": [
    "# Fitting and prediction\n",
    "y_pred=xgb.fit(x_train,y_train).predict(x_test)"
   ]
  },
  {
   "cell_type": "code",
   "execution_count": 50,
   "id": "a68c89b2",
   "metadata": {},
   "outputs": [
    {
     "name": "stdout",
     "output_type": "stream",
     "text": [
      "Accuracy Score: 0.9182628797886394\n",
      "f1_score: 0.37209302325581395\n",
      "Precision: 0.7370184254606366\n",
      "Recall: 0.248868778280543\n",
      "Classification report:\n",
      "               precision    recall  f1-score   support\n",
      "\n",
      "           0       0.92      0.99      0.96     16400\n",
      "           1       0.74      0.25      0.37      1768\n",
      "\n",
      "    accuracy                           0.92     18168\n",
      "   macro avg       0.83      0.62      0.66     18168\n",
      "weighted avg       0.91      0.92      0.90     18168\n",
      "\n"
     ]
    },
    {
     "data": {
      "image/png": "[encoded data removed]",
      "text/plain": [
       "<Figure size 432x288 with 2 Axes>"
      ]
     },
     "metadata": {
      "needs_background": "light"
     },
     "output_type": "display_data"
    }
   ],
   "source": [
    "# Evaluation\n",
    "evaluation(y_test,y_pred)"
   ]
  },
  {
   "cell_type": "markdown",
   "id": "955a4e5c",
   "metadata": {},
   "source": [
    "#### We see that xgboost is giving a similar efficiency as gradient boosting."
   ]
  },
  {
   "cell_type": "markdown",
   "id": "902b2812",
   "metadata": {},
   "source": [
    "# Trying to improve model"
   ]
  },
  {
   "cell_type": "code",
   "execution_count": 54,
   "id": "5e4365e9",
   "metadata": {},
   "outputs": [
    {
     "data": {
      "text/html": [
       "<div>\n",
       "<style scoped>\n",
       "    .dataframe tbody tr th:only-of-type {\n",
       "        vertical-align: middle;\n",
       "    }\n",
       "\n",
       "    .dataframe tbody tr th {\n",
       "        vertical-align: top;\n",
       "    }\n",
       "\n",
       "    .dataframe thead th {\n",
       "        text-align: right;\n",
       "    }\n",
       "</style>\n",
       "<table border=\"1\" class=\"dataframe\">\n",
       "  <thead>\n",
       "    <tr style=\"text-align: right;\">\n",
       "      <th></th>\n",
       "      <th>Features</th>\n",
       "      <th>VIF</th>\n",
       "    </tr>\n",
       "  </thead>\n",
       "  <tbody>\n",
       "    <tr>\n",
       "      <th>0</th>\n",
       "      <td>est_diameter_min</td>\n",
       "      <td>inf</td>\n",
       "    </tr>\n",
       "    <tr>\n",
       "      <th>1</th>\n",
       "      <td>est_diameter_max</td>\n",
       "      <td>inf</td>\n",
       "    </tr>\n",
       "    <tr>\n",
       "      <th>2</th>\n",
       "      <td>relative_velocity</td>\n",
       "      <td>5.181824</td>\n",
       "    </tr>\n",
       "    <tr>\n",
       "      <th>3</th>\n",
       "      <td>miss_distance</td>\n",
       "      <td>4.071148</td>\n",
       "    </tr>\n",
       "    <tr>\n",
       "      <th>4</th>\n",
       "      <td>absolute_magnitude</td>\n",
       "      <td>4.697676</td>\n",
       "    </tr>\n",
       "    <tr>\n",
       "      <th>5</th>\n",
       "      <td>est_diameter_avg</td>\n",
       "      <td>1.181303</td>\n",
       "    </tr>\n",
       "  </tbody>\n",
       "</table>\n",
       "</div>"
      ],
      "text/plain": [
       "             Features       VIF\n",
       "0    est_diameter_min       inf\n",
       "1    est_diameter_max       inf\n",
       "2   relative_velocity  5.181824\n",
       "3       miss_distance  4.071148\n",
       "4  absolute_magnitude  4.697676\n",
       "5    est_diameter_avg  1.181303"
      ]
     },
     "execution_count": 54,
     "metadata": {},
     "output_type": "execute_result"
    }
   ],
   "source": [
    "# Checking for Multicolinearity\n",
    "vif=pd.DataFrame()\n",
    "\n",
    "# creating the features column\n",
    "vif['Features']=df.drop(columns='hazardous').columns\n",
    "\n",
    "# creating the vif column\n",
    "vif['VIF']=[variance_inflation_factor(df.values,i) for i in range(df.drop(columns='hazardous').shape[1])]\n",
    "\n",
    "vif"
   ]
  },
  {
   "cell_type": "markdown",
   "id": "4d1e6c49",
   "metadata": {},
   "source": [
    "#### We can clearly see that there is high multicolineraity in min estimated diameter and maximum estimated diameter. So, we will drop these two columns, since we already have their average column"
   ]
  },
  {
   "cell_type": "code",
   "execution_count": 56,
   "id": "4e98ce72",
   "metadata": {},
   "outputs": [],
   "source": [
    "df.drop(columns=['est_diameter_min','est_diameter_max'],inplace=True)"
   ]
  },
  {
   "cell_type": "markdown",
   "id": "5f9bf043",
   "metadata": {},
   "source": [
    "#### Let us see whether it improves the performance"
   ]
  },
  {
   "cell_type": "code",
   "execution_count": 64,
   "id": "822c6d37",
   "metadata": {},
   "outputs": [],
   "source": [
    "# Splitting the data again\n",
    "x=df.drop(columns='hazardous')\n",
    "y=df.hazardous\n",
    "x_train,x_test,y_train,y_test=train_test_split(x,y,test_size=0.20,stratify=y)"
   ]
  },
  {
   "cell_type": "code",
   "execution_count": 65,
   "id": "95217873",
   "metadata": {},
   "outputs": [
    {
     "data": {
      "text/plain": [
       "((72668, 4), (18168, 4), (72668,), (18168,))"
      ]
     },
     "execution_count": 65,
     "metadata": {},
     "output_type": "execute_result"
    }
   ],
   "source": [
    "x_train.shape,x_test.shape,y_train.shape,y_test.shape"
   ]
  },
  {
   "cell_type": "code",
   "execution_count": 66,
   "id": "93fc2443",
   "metadata": {},
   "outputs": [],
   "source": [
    "# Let us move ahead with our Random Forrest Model since it was working best overall\n",
    "rf=RandomForestClassifier()\n",
    "rf_model=rf.fit(x_train,y_train)\n",
    "y_pred=rf_model.predict(x_test)"
   ]
  },
  {
   "cell_type": "code",
   "execution_count": 67,
   "id": "05fe6760",
   "metadata": {},
   "outputs": [
    {
     "name": "stdout",
     "output_type": "stream",
     "text": [
      "Accuracy Score: 0.9145750770585646\n",
      "f1_score: 0.45998608211551845\n",
      "Precision: 0.5976491862567812\n",
      "Recall: 0.373868778280543\n",
      "Classification report:\n",
      "               precision    recall  f1-score   support\n",
      "\n",
      "           0       0.94      0.97      0.95     16400\n",
      "           1       0.60      0.37      0.46      1768\n",
      "\n",
      "    accuracy                           0.91     18168\n",
      "   macro avg       0.77      0.67      0.71     18168\n",
      "weighted avg       0.90      0.91      0.91     18168\n",
      "\n"
     ]
    },
    {
     "data": {
      "image/png": "[encoded data removed]",
      "text/plain": [
       "<Figure size 432x288 with 2 Axes>"
      ]
     },
     "metadata": {
      "needs_background": "light"
     },
     "output_type": "display_data"
    }
   ],
   "source": [
    "# Evaluation of the random forrest model\n",
    "evaluation(y_test,y_pred)"
   ]
  },
  {
   "cell_type": "markdown",
   "id": "e2dc92b2",
   "metadata": {},
   "source": [
    "#### We still are not able to get a better recalll score score. This is because of the balancing issue. We will now try to increase class weightage to check whether we get a better recall score"
   ]
  },
  {
   "cell_type": "code",
   "execution_count": 82,
   "id": "313db68d",
   "metadata": {},
   "outputs": [],
   "source": [
    "# Initilizing Random forrest model again\n",
    "rf=RandomForestClassifier(class_weight={0:2.5,1:1})\n",
    "rf_model=rf.fit(x_train,y_train)\n",
    "y_pred=rf_model.predict(x_test)"
   ]
  },
  {
   "cell_type": "code",
   "execution_count": 83,
   "id": "ff7c8711",
   "metadata": {},
   "outputs": [
    {
     "name": "stdout",
     "output_type": "stream",
     "text": [
      "Accuracy Score: 0.916116248348745\n",
      "f1_score: 0.4726643598615917\n",
      "Precision: 0.6087344028520499\n",
      "Recall: 0.38631221719457015\n",
      "Classification report:\n",
      "               precision    recall  f1-score   support\n",
      "\n",
      "           0       0.94      0.97      0.95     16400\n",
      "           1       0.61      0.39      0.47      1768\n",
      "\n",
      "    accuracy                           0.92     18168\n",
      "   macro avg       0.77      0.68      0.71     18168\n",
      "weighted avg       0.90      0.92      0.91     18168\n",
      "\n"
     ]
    },
    {
     "data": {
      "image/png": "[encoded data removed]",
      "text/plain": [
       "<Figure size 432x288 with 2 Axes>"
      ]
     },
     "metadata": {
      "needs_background": "light"
     },
     "output_type": "display_data"
    }
   ],
   "source": [
    "# Evaluation of the model\n",
    "evaluation(y_test,y_pred)"
   ]
  },
  {
   "cell_type": "markdown",
   "id": "06929759",
   "metadata": {},
   "source": [
    "#### We can clearly see that increasing the weight of the minority class is resulting in a better recall score. So we will go ahead with a lightgbm model because of its inbuilt scale_pos_weight paramenter which works better in case of unbalanced datasets"
   ]
  },
  {
   "cell_type": "markdown",
   "id": "9f656c4f",
   "metadata": {},
   "source": [
    "## Lightgbm Model(with increased weights)"
   ]
  },
  {
   "cell_type": "code",
   "execution_count": 91,
   "id": "1ad7a812",
   "metadata": {},
   "outputs": [],
   "source": [
    "lgbm=LGBMClassifier(scale_pos_weight=3.5)\n",
    "lg_model=lgbm.fit(x_train,y_train)\n",
    "y_pred=lg_model.predict(x_test)"
   ]
  },
  {
   "cell_type": "code",
   "execution_count": 92,
   "id": "3636aa05",
   "metadata": {},
   "outputs": [
    {
     "name": "stdout",
     "output_type": "stream",
     "text": [
      "Accuracy Score: 0.837956847203875\n",
      "f1_score: 0.5062059711506205\n",
      "Precision: 0.3597997138769671\n",
      "Recall: 0.8535067873303167\n",
      "Classification report:\n",
      "               precision    recall  f1-score   support\n",
      "\n",
      "           0       0.98      0.84      0.90     16400\n",
      "           1       0.36      0.85      0.51      1768\n",
      "\n",
      "    accuracy                           0.84     18168\n",
      "   macro avg       0.67      0.84      0.70     18168\n",
      "weighted avg       0.92      0.84      0.86     18168\n",
      "\n"
     ]
    },
    {
     "data": {
      "image/png": "[encoded data removed]",
      "text/plain": [
       "<Figure size 432x288 with 2 Axes>"
      ]
     },
     "metadata": {
      "needs_background": "light"
     },
     "output_type": "display_data"
    }
   ],
   "source": [
    "# Evaluation of the model\n",
    "evaluation(y_test,y_pred)"
   ]
  },
  {
   "cell_type": "markdown",
   "id": "213b6c75",
   "metadata": {},
   "source": [
    "# Conclusion\n",
    "#### We now see that we have a much better recall of 0.853 which is pretty great beacause it indicates a case pf reduced false negatives. Though tinkering with class wieghts did have a negative effect on our accuracy. Still we can improve the model with higher weight for hazardous class reducing the acuuracy. So this would be our final model for now."
   ]
  }
 ],
 "metadata": {
  "kernelspec": {
   "display_name": "Python 3 (ipykernel)",
   "language": "python",
   "name": "python3"
  },
  "language_info": {
   "codemirror_mode": {
    "name": "ipython",
    "version": 3
   },
   "file_extension": ".py",
   "mimetype": "text/x-python",
   "name": "python",
   "nbconvert_exporter": "python",
   "pygments_lexer": "ipython3",
   "version": "3.9.7"
  }
 },
 "nbformat": 4,
 "nbformat_minor": 5
}
